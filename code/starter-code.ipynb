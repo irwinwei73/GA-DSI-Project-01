{
 "cells": [
  {
   "cell_type": "markdown",
   "metadata": {},
   "source": [
    "# Project 1: SAT & ACT Analysis"
   ]
  },
  {
   "cell_type": "markdown",
   "metadata": {},
   "source": [
    "The first markdown cell in a notebook is a great place to provide an overview of your entire project. You will likely want to at least state your\n",
    "\n",
    "## Problem Statement"
   ]
  },
  {
   "cell_type": "markdown",
   "metadata": {},
   "source": [
    "Define the problem you are finding answers for from the data given."
   ]
  },
  {
   "cell_type": "markdown",
   "metadata": {},
   "source": [
    "To recommend steps that the College Board should take to increase the SAT participation rate in **Missouri**.\n",
    "\n",
    "## Executive Summary\n",
    "\n",
    "If you want to, it's great to use relative links to direct your audience to various sections of a notebook. **HERE'S A DEMONSTRATION WITH THE CURRENT SECTION HEADERS**:\n",
    "\n",
    "### Contents:\n",
    "- [2017 Data Import & Cleaning](#2017-Data-Import-and-Cleaning)\n",
    "- [2018 Data Import and Cleaning](#2018-Data-Import-and-Cleaning)\n",
    "- [Exploratory Data Analysis](#Exploratory-Data-Analysis)\n",
    "- [Data Visualization](#Visualize-the-data)\n",
    "- [Descriptive and Inferential Statistics](#Descriptive-and-Inferential-Statistics)\n",
    "- [Outside Research](#Outside-Research)\n",
    "- [Conclusions and Recommendations](#Conclusions-and-Recommendations)"
   ]
  },
  {
   "cell_type": "markdown",
   "metadata": {},
   "source": [
    "**If you combine your problem statement, executive summary, data dictionary, and conclusions/recommendations, you have an amazing README.md file that quickly aligns your audience to the contents of your project.** Don't forget to cite your data sources!"
   ]
  },
  {
   "cell_type": "markdown",
   "metadata": {},
   "source": [
    "*All libraries used should be added here*"
   ]
  },
  {
   "cell_type": "code",
   "execution_count": 1,
   "metadata": {},
   "outputs": [],
   "source": [
    "#Imports:\n",
    "import numpy as np\n",
    "import pandas as pd\n",
    "import scipy.stats as stats\n",
    "import matplotlib.pyplot as plt\n",
    "import seaborn as sns\n",
    "%matplotlib inline"
   ]
  },
  {
   "cell_type": "code",
   "execution_count": 2,
   "metadata": {},
   "outputs": [],
   "source": [
    "%config IPCompleter.greedy=True"
   ]
  },
  {
   "cell_type": "code",
   "execution_count": 3,
   "metadata": {},
   "outputs": [
    {
     "data": {
      "text/plain": [
       "'C:\\\\Users\\\\XXX\\\\Desktop\\\\GADSI\\\\dsi-sg-10-repo-workarea\\\\Project1234\\\\project_1\\\\code'"
      ]
     },
     "execution_count": 3,
     "metadata": {},
     "output_type": "execute_result"
    }
   ],
   "source": [
    "%pwd"
   ]
  },
  {
   "cell_type": "code",
   "execution_count": 4,
   "metadata": {},
   "outputs": [
    {
     "name": "stdout",
     "output_type": "stream",
     "text": [
      "C:\\Users\\XXX\\Desktop\\GADSI\\dsi-sg-10-repo-workarea\\Project1234\\project_1\\data\n"
     ]
    }
   ],
   "source": [
    "%cd ../data/"
   ]
  },
  {
   "cell_type": "markdown",
   "metadata": {},
   "source": [
    "## 2017 Data Import and Cleaning"
   ]
  },
  {
   "cell_type": "markdown",
   "metadata": {},
   "source": [
    "#### 1. Read In SAT & ACT  Data\n",
    "\n",
    "Read in the `sat_2017.csv` and `act_2017.csv` files and assign them to appropriately named pandas dataframes."
   ]
  },
  {
   "cell_type": "code",
   "execution_count": 5,
   "metadata": {},
   "outputs": [],
   "source": [
    "df_sat_2017 = pd.read_csv('sat_2017.csv')\n",
    "df_act_2017 = pd.read_csv('act_2017.csv')"
   ]
  },
  {
   "cell_type": "markdown",
   "metadata": {},
   "source": [
    "#### 2. Display Data\n",
    "\n",
    "Print the first 10 rows of each dataframe to your jupyter notebook"
   ]
  },
  {
   "cell_type": "code",
   "execution_count": 6,
   "metadata": {},
   "outputs": [
    {
     "name": "stdout",
     "output_type": "stream",
     "text": [
      "First 10 rows from sat_2017.csv:\n"
     ]
    },
    {
     "data": {
      "text/html": [
       "<div>\n",
       "<style scoped>\n",
       "    .dataframe tbody tr th:only-of-type {\n",
       "        vertical-align: middle;\n",
       "    }\n",
       "\n",
       "    .dataframe tbody tr th {\n",
       "        vertical-align: top;\n",
       "    }\n",
       "\n",
       "    .dataframe thead th {\n",
       "        text-align: right;\n",
       "    }\n",
       "</style>\n",
       "<table border=\"1\" class=\"dataframe\">\n",
       "  <thead>\n",
       "    <tr style=\"text-align: right;\">\n",
       "      <th></th>\n",
       "      <th>State</th>\n",
       "      <th>Participation</th>\n",
       "      <th>Evidence-Based Reading and Writing</th>\n",
       "      <th>Math</th>\n",
       "      <th>Total</th>\n",
       "    </tr>\n",
       "  </thead>\n",
       "  <tbody>\n",
       "    <tr>\n",
       "      <th>0</th>\n",
       "      <td>Alabama</td>\n",
       "      <td>5%</td>\n",
       "      <td>593</td>\n",
       "      <td>572</td>\n",
       "      <td>1165</td>\n",
       "    </tr>\n",
       "    <tr>\n",
       "      <th>1</th>\n",
       "      <td>Alaska</td>\n",
       "      <td>38%</td>\n",
       "      <td>547</td>\n",
       "      <td>533</td>\n",
       "      <td>1080</td>\n",
       "    </tr>\n",
       "    <tr>\n",
       "      <th>2</th>\n",
       "      <td>Arizona</td>\n",
       "      <td>30%</td>\n",
       "      <td>563</td>\n",
       "      <td>553</td>\n",
       "      <td>1116</td>\n",
       "    </tr>\n",
       "    <tr>\n",
       "      <th>3</th>\n",
       "      <td>Arkansas</td>\n",
       "      <td>3%</td>\n",
       "      <td>614</td>\n",
       "      <td>594</td>\n",
       "      <td>1208</td>\n",
       "    </tr>\n",
       "    <tr>\n",
       "      <th>4</th>\n",
       "      <td>California</td>\n",
       "      <td>53%</td>\n",
       "      <td>531</td>\n",
       "      <td>524</td>\n",
       "      <td>1055</td>\n",
       "    </tr>\n",
       "    <tr>\n",
       "      <th>5</th>\n",
       "      <td>Colorado</td>\n",
       "      <td>11%</td>\n",
       "      <td>606</td>\n",
       "      <td>595</td>\n",
       "      <td>1201</td>\n",
       "    </tr>\n",
       "    <tr>\n",
       "      <th>6</th>\n",
       "      <td>Connecticut</td>\n",
       "      <td>100%</td>\n",
       "      <td>530</td>\n",
       "      <td>512</td>\n",
       "      <td>1041</td>\n",
       "    </tr>\n",
       "    <tr>\n",
       "      <th>7</th>\n",
       "      <td>Delaware</td>\n",
       "      <td>100%</td>\n",
       "      <td>503</td>\n",
       "      <td>492</td>\n",
       "      <td>996</td>\n",
       "    </tr>\n",
       "    <tr>\n",
       "      <th>8</th>\n",
       "      <td>District of Columbia</td>\n",
       "      <td>100%</td>\n",
       "      <td>482</td>\n",
       "      <td>468</td>\n",
       "      <td>950</td>\n",
       "    </tr>\n",
       "    <tr>\n",
       "      <th>9</th>\n",
       "      <td>Florida</td>\n",
       "      <td>83%</td>\n",
       "      <td>520</td>\n",
       "      <td>497</td>\n",
       "      <td>1017</td>\n",
       "    </tr>\n",
       "  </tbody>\n",
       "</table>\n",
       "</div>"
      ],
      "text/plain": [
       "                  State Participation  Evidence-Based Reading and Writing  \\\n",
       "0               Alabama            5%                                 593   \n",
       "1                Alaska           38%                                 547   \n",
       "2               Arizona           30%                                 563   \n",
       "3              Arkansas            3%                                 614   \n",
       "4            California           53%                                 531   \n",
       "5              Colorado           11%                                 606   \n",
       "6           Connecticut          100%                                 530   \n",
       "7              Delaware          100%                                 503   \n",
       "8  District of Columbia          100%                                 482   \n",
       "9               Florida           83%                                 520   \n",
       "\n",
       "   Math  Total  \n",
       "0   572   1165  \n",
       "1   533   1080  \n",
       "2   553   1116  \n",
       "3   594   1208  \n",
       "4   524   1055  \n",
       "5   595   1201  \n",
       "6   512   1041  \n",
       "7   492    996  \n",
       "8   468    950  \n",
       "9   497   1017  "
      ]
     },
     "metadata": {},
     "output_type": "display_data"
    },
    {
     "name": "stdout",
     "output_type": "stream",
     "text": [
      "\n",
      "First 10 rows from act_2017.csv:\n"
     ]
    },
    {
     "data": {
      "text/html": [
       "<div>\n",
       "<style scoped>\n",
       "    .dataframe tbody tr th:only-of-type {\n",
       "        vertical-align: middle;\n",
       "    }\n",
       "\n",
       "    .dataframe tbody tr th {\n",
       "        vertical-align: top;\n",
       "    }\n",
       "\n",
       "    .dataframe thead th {\n",
       "        text-align: right;\n",
       "    }\n",
       "</style>\n",
       "<table border=\"1\" class=\"dataframe\">\n",
       "  <thead>\n",
       "    <tr style=\"text-align: right;\">\n",
       "      <th></th>\n",
       "      <th>State</th>\n",
       "      <th>Participation</th>\n",
       "      <th>English</th>\n",
       "      <th>Math</th>\n",
       "      <th>Reading</th>\n",
       "      <th>Science</th>\n",
       "      <th>Composite</th>\n",
       "    </tr>\n",
       "  </thead>\n",
       "  <tbody>\n",
       "    <tr>\n",
       "      <th>0</th>\n",
       "      <td>National</td>\n",
       "      <td>60%</td>\n",
       "      <td>20.3</td>\n",
       "      <td>20.7</td>\n",
       "      <td>21.4</td>\n",
       "      <td>21.0</td>\n",
       "      <td>21.0</td>\n",
       "    </tr>\n",
       "    <tr>\n",
       "      <th>1</th>\n",
       "      <td>Alabama</td>\n",
       "      <td>100%</td>\n",
       "      <td>18.9</td>\n",
       "      <td>18.4</td>\n",
       "      <td>19.7</td>\n",
       "      <td>19.4</td>\n",
       "      <td>19.2</td>\n",
       "    </tr>\n",
       "    <tr>\n",
       "      <th>2</th>\n",
       "      <td>Alaska</td>\n",
       "      <td>65%</td>\n",
       "      <td>18.7</td>\n",
       "      <td>19.8</td>\n",
       "      <td>20.4</td>\n",
       "      <td>19.9</td>\n",
       "      <td>19.8</td>\n",
       "    </tr>\n",
       "    <tr>\n",
       "      <th>3</th>\n",
       "      <td>Arizona</td>\n",
       "      <td>62%</td>\n",
       "      <td>18.6</td>\n",
       "      <td>19.8</td>\n",
       "      <td>20.1</td>\n",
       "      <td>19.8</td>\n",
       "      <td>19.7</td>\n",
       "    </tr>\n",
       "    <tr>\n",
       "      <th>4</th>\n",
       "      <td>Arkansas</td>\n",
       "      <td>100%</td>\n",
       "      <td>18.9</td>\n",
       "      <td>19.0</td>\n",
       "      <td>19.7</td>\n",
       "      <td>19.5</td>\n",
       "      <td>19.4</td>\n",
       "    </tr>\n",
       "    <tr>\n",
       "      <th>5</th>\n",
       "      <td>California</td>\n",
       "      <td>31%</td>\n",
       "      <td>22.5</td>\n",
       "      <td>22.7</td>\n",
       "      <td>23.1</td>\n",
       "      <td>22.2</td>\n",
       "      <td>22.8</td>\n",
       "    </tr>\n",
       "    <tr>\n",
       "      <th>6</th>\n",
       "      <td>Colorado</td>\n",
       "      <td>100%</td>\n",
       "      <td>20.1</td>\n",
       "      <td>20.3</td>\n",
       "      <td>21.2</td>\n",
       "      <td>20.9</td>\n",
       "      <td>20.8</td>\n",
       "    </tr>\n",
       "    <tr>\n",
       "      <th>7</th>\n",
       "      <td>Connecticut</td>\n",
       "      <td>31%</td>\n",
       "      <td>25.5</td>\n",
       "      <td>24.6</td>\n",
       "      <td>25.6</td>\n",
       "      <td>24.6</td>\n",
       "      <td>25.2</td>\n",
       "    </tr>\n",
       "    <tr>\n",
       "      <th>8</th>\n",
       "      <td>Delaware</td>\n",
       "      <td>18%</td>\n",
       "      <td>24.1</td>\n",
       "      <td>23.4</td>\n",
       "      <td>24.8</td>\n",
       "      <td>23.6</td>\n",
       "      <td>24.1</td>\n",
       "    </tr>\n",
       "    <tr>\n",
       "      <th>9</th>\n",
       "      <td>District of Columbia</td>\n",
       "      <td>32%</td>\n",
       "      <td>24.4</td>\n",
       "      <td>23.5</td>\n",
       "      <td>24.9</td>\n",
       "      <td>23.5</td>\n",
       "      <td>24.2</td>\n",
       "    </tr>\n",
       "  </tbody>\n",
       "</table>\n",
       "</div>"
      ],
      "text/plain": [
       "                  State Participation  English  Math  Reading  Science  \\\n",
       "0              National           60%     20.3  20.7     21.4     21.0   \n",
       "1               Alabama          100%     18.9  18.4     19.7     19.4   \n",
       "2                Alaska           65%     18.7  19.8     20.4     19.9   \n",
       "3               Arizona           62%     18.6  19.8     20.1     19.8   \n",
       "4              Arkansas          100%     18.9  19.0     19.7     19.5   \n",
       "5            California           31%     22.5  22.7     23.1     22.2   \n",
       "6              Colorado          100%     20.1  20.3     21.2     20.9   \n",
       "7           Connecticut           31%     25.5  24.6     25.6     24.6   \n",
       "8              Delaware           18%     24.1  23.4     24.8     23.6   \n",
       "9  District of Columbia           32%     24.4  23.5     24.9     23.5   \n",
       "\n",
       "  Composite  \n",
       "0      21.0  \n",
       "1      19.2  \n",
       "2      19.8  \n",
       "3      19.7  \n",
       "4      19.4  \n",
       "5      22.8  \n",
       "6      20.8  \n",
       "7      25.2  \n",
       "8      24.1  \n",
       "9      24.2  "
      ]
     },
     "metadata": {},
     "output_type": "display_data"
    }
   ],
   "source": [
    "print('First 10 rows from sat_2017.csv:')\n",
    "display(df_sat_2017.head(10))\n",
    "print()\n",
    "print('First 10 rows from act_2017.csv:')\n",
    "display(df_act_2017.head(10))"
   ]
  },
  {
   "cell_type": "markdown",
   "metadata": {},
   "source": [
    "#### 3. Verbally Describe Data\n",
    "\n",
    "Take your time looking through the data and thoroughly describe the data in the markdown cell below. "
   ]
  },
  {
   "cell_type": "markdown",
   "metadata": {},
   "source": [
    "### sat_2017.csv\n",
    "sat_2017.csv is a dataset that describes, for each state in the US, the participation rate, aggregate component subject scores and aggregate total score for the SAT standardized test in 2017.\n",
    "\n",
    "The dataset comprises 51 rows and 5 columns, where each row provides the data for one state. All 50 states of the US are represented, plus the District of Columbia (being the 51st state in the dataset).\n",
    "\n",
    "The columns are:\n",
    "\n",
    "\t1) State: the state in question\n",
    "\t2) Participation: the participation rate (in %)\n",
    "\t3) Evidence-Based Reading and Writing: aggregate score for this subject\n",
    "\t4) Math: aggregate score for this subject\n",
    "\t5) Total: aggregate total score\n",
    "\n",
    "The dataset does not contain any null values. \n",
    "\n",
    "\n",
    "\n",
    "### act_2017.csv\n",
    "act_2017.csv is a dataset that describes, for each state in the US, the participation rate, aggregate component subject scores and aggregate composite score for the ACT test in 2017.\n",
    "\n",
    "The dataset comprises 52 rows and 7 columns, where each row is intended to provide the data for one state. All 50 states of the US are represented, plus the District of Columbia (being the 51st state in the dataset). There is 1 additional row for which the state is labeled as 'National' and does not appear to represent data pertaining to any specific state.\n",
    "\n",
    "The columns are:\n",
    "\n",
    "\t1) State: the state in question\n",
    "\t2) Participation: the participation rate (in %)\n",
    "\t3) English: aggregate score for this subject\n",
    "\t4) Math: aggregate score for this subject\n",
    "\t5) Reading: aggregate score for this subject\n",
    "\t6) Science: aggregate score for this subject\n",
    "\t7) Composite: aggregate total score\n",
    "\n",
    "The dataset does not contain any null values."
   ]
  },
  {
   "cell_type": "markdown",
   "metadata": {},
   "source": [
    "#### 4a. Does the data look complete? "
   ]
  },
  {
   "cell_type": "markdown",
   "metadata": {},
   "source": [
    "The data appears to be complete. There are no null values."
   ]
  },
  {
   "cell_type": "code",
   "execution_count": 7,
   "metadata": {},
   "outputs": [
    {
     "data": {
      "text/html": [
       "<div>\n",
       "<style scoped>\n",
       "    .dataframe tbody tr th:only-of-type {\n",
       "        vertical-align: middle;\n",
       "    }\n",
       "\n",
       "    .dataframe tbody tr th {\n",
       "        vertical-align: top;\n",
       "    }\n",
       "\n",
       "    .dataframe thead th {\n",
       "        text-align: right;\n",
       "    }\n",
       "</style>\n",
       "<table border=\"1\" class=\"dataframe\">\n",
       "  <thead>\n",
       "    <tr style=\"text-align: right;\">\n",
       "      <th></th>\n",
       "      <th>English</th>\n",
       "      <th>Math</th>\n",
       "      <th>Reading</th>\n",
       "      <th>Science</th>\n",
       "    </tr>\n",
       "  </thead>\n",
       "  <tbody>\n",
       "    <tr>\n",
       "      <th>count</th>\n",
       "      <td>52.000000</td>\n",
       "      <td>52.000000</td>\n",
       "      <td>52.000000</td>\n",
       "      <td>52.000000</td>\n",
       "    </tr>\n",
       "    <tr>\n",
       "      <th>mean</th>\n",
       "      <td>20.919231</td>\n",
       "      <td>21.173077</td>\n",
       "      <td>22.001923</td>\n",
       "      <td>21.040385</td>\n",
       "    </tr>\n",
       "    <tr>\n",
       "      <th>std</th>\n",
       "      <td>2.332132</td>\n",
       "      <td>1.963602</td>\n",
       "      <td>2.048672</td>\n",
       "      <td>3.151113</td>\n",
       "    </tr>\n",
       "    <tr>\n",
       "      <th>min</th>\n",
       "      <td>16.300000</td>\n",
       "      <td>18.000000</td>\n",
       "      <td>18.100000</td>\n",
       "      <td>2.300000</td>\n",
       "    </tr>\n",
       "    <tr>\n",
       "      <th>25%</th>\n",
       "      <td>19.000000</td>\n",
       "      <td>19.400000</td>\n",
       "      <td>20.475000</td>\n",
       "      <td>19.900000</td>\n",
       "    </tr>\n",
       "    <tr>\n",
       "      <th>50%</th>\n",
       "      <td>20.550000</td>\n",
       "      <td>20.900000</td>\n",
       "      <td>21.700000</td>\n",
       "      <td>21.150000</td>\n",
       "    </tr>\n",
       "    <tr>\n",
       "      <th>75%</th>\n",
       "      <td>23.300000</td>\n",
       "      <td>23.100000</td>\n",
       "      <td>24.125000</td>\n",
       "      <td>22.525000</td>\n",
       "    </tr>\n",
       "    <tr>\n",
       "      <th>max</th>\n",
       "      <td>25.500000</td>\n",
       "      <td>25.300000</td>\n",
       "      <td>26.000000</td>\n",
       "      <td>24.900000</td>\n",
       "    </tr>\n",
       "  </tbody>\n",
       "</table>\n",
       "</div>"
      ],
      "text/plain": [
       "         English       Math    Reading    Science\n",
       "count  52.000000  52.000000  52.000000  52.000000\n",
       "mean   20.919231  21.173077  22.001923  21.040385\n",
       "std     2.332132   1.963602   2.048672   3.151113\n",
       "min    16.300000  18.000000  18.100000   2.300000\n",
       "25%    19.000000  19.400000  20.475000  19.900000\n",
       "50%    20.550000  20.900000  21.700000  21.150000\n",
       "75%    23.300000  23.100000  24.125000  22.525000\n",
       "max    25.500000  25.300000  26.000000  24.900000"
      ]
     },
     "execution_count": 7,
     "metadata": {},
     "output_type": "execute_result"
    }
   ],
   "source": [
    "df_act_2017.describe()"
   ]
  },
  {
   "cell_type": "markdown",
   "metadata": {},
   "source": [
    "#### 4b. Are there any obvious issues with the observations?\n",
    "\n",
    "**What is the minimum *possible* value for each test/subtest? What is the maximum *possible* value?**\n",
    "\n",
    "Consider comparing any questionable values to the sources of your data:\n",
    "- [SAT](https://blog.collegevine.com/here-are-the-average-sat-scores-by-state/)\n",
    "- [ACT](https://blog.prepscholar.com/act-scores-by-state-averages-highs-and-lows)"
   ]
  },
  {
   "cell_type": "markdown",
   "metadata": {},
   "source": [
    "### sat_2017.csv\n",
    "Refer to: https://www.princetonreview.com/college-advice/guide-to-sat-scores\n",
    "\n",
    "The SAT Math & EBRW scores each range from 200 (minimum) to 800 (maximum).\n",
    "\n",
    "The respective Math & EBRW scores in the dataset fall within the above range. There are no obvious issues with the observations.\n",
    "\n",
    "\n",
    "### act_2017.csv\n",
    "Refer to: https://blog.prepscholar.com/how-is-the-act-scored\n",
    "\n",
    "The ACT English, Math, Reading & Science scores each range from 1 (minimum) to 36 (maximum).\n",
    "\n",
    "The respective Engish, Math, Reading & Science scores in the dataset fall within the above range. There are no obvious issues with the observations."
   ]
  },
  {
   "cell_type": "markdown",
   "metadata": {},
   "source": [
    "#### 4c. Fix any errors you identified\n",
    "\n",
    "**The data is available** so there's no need to guess or calculate anything. If you didn't find any errors, continue to the next step."
   ]
  },
  {
   "cell_type": "code",
   "execution_count": 8,
   "metadata": {},
   "outputs": [],
   "source": [
    "# (1)\n",
    "# sat_2017.csv has the following error:\n",
    "# The last row of the 'Composite' column contains an invalid value '20.2x'\n",
    "# This will be corrected further below in Question 6."
   ]
  },
  {
   "cell_type": "code",
   "execution_count": 9,
   "metadata": {},
   "outputs": [
    {
     "data": {
      "text/html": [
       "<div>\n",
       "<style scoped>\n",
       "    .dataframe tbody tr th:only-of-type {\n",
       "        vertical-align: middle;\n",
       "    }\n",
       "\n",
       "    .dataframe tbody tr th {\n",
       "        vertical-align: top;\n",
       "    }\n",
       "\n",
       "    .dataframe thead th {\n",
       "        text-align: right;\n",
       "    }\n",
       "</style>\n",
       "<table border=\"1\" class=\"dataframe\">\n",
       "  <thead>\n",
       "    <tr style=\"text-align: right;\">\n",
       "      <th></th>\n",
       "      <th>State</th>\n",
       "      <th>Participation</th>\n",
       "      <th>English</th>\n",
       "      <th>Math</th>\n",
       "      <th>Reading</th>\n",
       "      <th>Science</th>\n",
       "      <th>Composite</th>\n",
       "    </tr>\n",
       "  </thead>\n",
       "  <tbody>\n",
       "    <tr>\n",
       "      <th>21</th>\n",
       "      <td>Maryland</td>\n",
       "      <td>28%</td>\n",
       "      <td>23.3</td>\n",
       "      <td>23.1</td>\n",
       "      <td>24.2</td>\n",
       "      <td>2.3</td>\n",
       "      <td>23.6</td>\n",
       "    </tr>\n",
       "  </tbody>\n",
       "</table>\n",
       "</div>"
      ],
      "text/plain": [
       "       State Participation  English  Math  Reading  Science Composite\n",
       "21  Maryland           28%     23.3  23.1     24.2      2.3      23.6"
      ]
     },
     "metadata": {},
     "output_type": "display_data"
    },
    {
     "data": {
      "text/html": [
       "<div>\n",
       "<style scoped>\n",
       "    .dataframe tbody tr th:only-of-type {\n",
       "        vertical-align: middle;\n",
       "    }\n",
       "\n",
       "    .dataframe tbody tr th {\n",
       "        vertical-align: top;\n",
       "    }\n",
       "\n",
       "    .dataframe thead th {\n",
       "        text-align: right;\n",
       "    }\n",
       "</style>\n",
       "<table border=\"1\" class=\"dataframe\">\n",
       "  <thead>\n",
       "    <tr style=\"text-align: right;\">\n",
       "      <th></th>\n",
       "      <th>State</th>\n",
       "      <th>Participation</th>\n",
       "      <th>English</th>\n",
       "      <th>Math</th>\n",
       "      <th>Reading</th>\n",
       "      <th>Science</th>\n",
       "      <th>Composite</th>\n",
       "    </tr>\n",
       "  </thead>\n",
       "  <tbody>\n",
       "    <tr>\n",
       "      <th>21</th>\n",
       "      <td>Maryland</td>\n",
       "      <td>28%</td>\n",
       "      <td>23.3</td>\n",
       "      <td>23.1</td>\n",
       "      <td>24.2</td>\n",
       "      <td>23.2</td>\n",
       "      <td>23.6</td>\n",
       "    </tr>\n",
       "  </tbody>\n",
       "</table>\n",
       "</div>"
      ],
      "text/plain": [
       "       State Participation  English  Math  Reading  Science Composite\n",
       "21  Maryland           28%     23.3  23.1     24.2     23.2      23.6"
      ]
     },
     "metadata": {},
     "output_type": "display_data"
    }
   ],
   "source": [
    "# (2)\n",
    "# act_2017.csv has an error in the 'Science' mean score of only 2.3 where State='Maryland'\n",
    "# Checked against data provided at: https://blog.prepscholar.com/act-scores-by-state-averages-highs-and-lows\n",
    "# Update this value to 23.2\n",
    "display(df_act_2017[df_act_2017['State']=='Maryland'])\n",
    "df_act_2017.loc[21,'Science'] = 23.2\n",
    "display(df_act_2017[df_act_2017['State']=='Maryland'])"
   ]
  },
  {
   "cell_type": "code",
   "execution_count": 10,
   "metadata": {},
   "outputs": [
    {
     "data": {
      "text/html": [
       "<div>\n",
       "<style scoped>\n",
       "    .dataframe tbody tr th:only-of-type {\n",
       "        vertical-align: middle;\n",
       "    }\n",
       "\n",
       "    .dataframe tbody tr th {\n",
       "        vertical-align: top;\n",
       "    }\n",
       "\n",
       "    .dataframe thead th {\n",
       "        text-align: right;\n",
       "    }\n",
       "</style>\n",
       "<table border=\"1\" class=\"dataframe\">\n",
       "  <thead>\n",
       "    <tr style=\"text-align: right;\">\n",
       "      <th></th>\n",
       "      <th>State</th>\n",
       "      <th>Participation</th>\n",
       "      <th>Evidence-Based Reading and Writing</th>\n",
       "      <th>Math</th>\n",
       "      <th>Total</th>\n",
       "    </tr>\n",
       "  </thead>\n",
       "  <tbody>\n",
       "    <tr>\n",
       "      <th>20</th>\n",
       "      <td>Maryland</td>\n",
       "      <td>69%</td>\n",
       "      <td>536</td>\n",
       "      <td>52</td>\n",
       "      <td>1060</td>\n",
       "    </tr>\n",
       "  </tbody>\n",
       "</table>\n",
       "</div>"
      ],
      "text/plain": [
       "       State Participation  Evidence-Based Reading and Writing  Math  Total\n",
       "20  Maryland           69%                                 536    52   1060"
      ]
     },
     "metadata": {},
     "output_type": "display_data"
    },
    {
     "data": {
      "text/html": [
       "<div>\n",
       "<style scoped>\n",
       "    .dataframe tbody tr th:only-of-type {\n",
       "        vertical-align: middle;\n",
       "    }\n",
       "\n",
       "    .dataframe tbody tr th {\n",
       "        vertical-align: top;\n",
       "    }\n",
       "\n",
       "    .dataframe thead th {\n",
       "        text-align: right;\n",
       "    }\n",
       "</style>\n",
       "<table border=\"1\" class=\"dataframe\">\n",
       "  <thead>\n",
       "    <tr style=\"text-align: right;\">\n",
       "      <th></th>\n",
       "      <th>State</th>\n",
       "      <th>Participation</th>\n",
       "      <th>Evidence-Based Reading and Writing</th>\n",
       "      <th>Math</th>\n",
       "      <th>Total</th>\n",
       "    </tr>\n",
       "  </thead>\n",
       "  <tbody>\n",
       "    <tr>\n",
       "      <th>20</th>\n",
       "      <td>Maryland</td>\n",
       "      <td>69%</td>\n",
       "      <td>536</td>\n",
       "      <td>524</td>\n",
       "      <td>1060</td>\n",
       "    </tr>\n",
       "  </tbody>\n",
       "</table>\n",
       "</div>"
      ],
      "text/plain": [
       "       State Participation  Evidence-Based Reading and Writing  Math  Total\n",
       "20  Maryland           69%                                 536   524   1060"
      ]
     },
     "metadata": {},
     "output_type": "display_data"
    }
   ],
   "source": [
    "# (3)\n",
    "# sat_2017.csv has an error in the 'Math' mean score of only 52 where State='Maryland'\n",
    "# Checked against data provided at: https://ipsr.ku.edu/ksdata/ksah/education/6ed16.pdf\n",
    "# Update this value to 524\n",
    "display(df_sat_2017[df_sat_2017['State']=='Maryland'])\n",
    "df_sat_2017.loc[20,'Math'] = 524\n",
    "display(df_sat_2017[df_sat_2017['State']=='Maryland'])"
   ]
  },
  {
   "cell_type": "markdown",
   "metadata": {},
   "source": [
    "#### 5. What are your data types? \n",
    "Display the data types of each feature. "
   ]
  },
  {
   "cell_type": "code",
   "execution_count": 11,
   "metadata": {},
   "outputs": [
    {
     "name": "stdout",
     "output_type": "stream",
     "text": [
      "Data types for the sat_2017 dataframe:\n"
     ]
    },
    {
     "data": {
      "text/plain": [
       "State                                 object\n",
       "Participation                         object\n",
       "Evidence-Based Reading and Writing     int64\n",
       "Math                                   int64\n",
       "Total                                  int64\n",
       "dtype: object"
      ]
     },
     "metadata": {},
     "output_type": "display_data"
    },
    {
     "name": "stdout",
     "output_type": "stream",
     "text": [
      "\n",
      "Data types for the act_2017 dataframe:\n"
     ]
    },
    {
     "data": {
      "text/plain": [
       "State             object\n",
       "Participation     object\n",
       "English          float64\n",
       "Math             float64\n",
       "Reading          float64\n",
       "Science          float64\n",
       "Composite         object\n",
       "dtype: object"
      ]
     },
     "metadata": {},
     "output_type": "display_data"
    }
   ],
   "source": [
    "print('Data types for the sat_2017 dataframe:')\n",
    "display(df_sat_2017.dtypes)\n",
    "print()\n",
    "print('Data types for the act_2017 dataframe:')\n",
    "display(df_act_2017.dtypes)"
   ]
  },
  {
   "cell_type": "markdown",
   "metadata": {},
   "source": [
    "What did you learn?\n",
    "- Do any of them seem odd?  \n",
    "- Which ones are not as they should be?  "
   ]
  },
  {
   "cell_type": "markdown",
   "metadata": {},
   "source": [
    "### act_2017.csv\n",
    "The last row of column 'Composite' appears to contain an invalid value '20.2x'. This should be a number instead.\n",
    "\n",
    "The column 'Participation' should be a number instead of an object so as to be useful for analysis.\n",
    "\n",
    "### sat_2017.csv\n",
    "The column 'Participation' should be a number instead of an object so as to be useful for analysis.\n"
   ]
  },
  {
   "cell_type": "markdown",
   "metadata": {},
   "source": [
    "#### 6. Fix Incorrect Data Types\n",
    "Based on what you discovered above, use appropriate methods to re-type incorrectly typed data.\n",
    "- Define a function that will allow you to convert participation rates to an appropriate numeric type. Use `map` or `apply` to change these columns in each dataframe."
   ]
  },
  {
   "cell_type": "code",
   "execution_count": 12,
   "metadata": {},
   "outputs": [],
   "source": [
    "def remove_percent_symbol(a):\n",
    "    return a.replace('%','')\n",
    "\n",
    "df_sat_2017['Participation'] = df_sat_2017['Participation'].apply(remove_percent_symbol).astype(float)/100\n",
    "df_act_2017['Participation'] = df_act_2017['Participation'].apply(remove_percent_symbol).astype(float)/100"
   ]
  },
  {
   "cell_type": "markdown",
   "metadata": {},
   "source": [
    "- Fix any individual values preventing other columns from being the appropriate type."
   ]
  },
  {
   "cell_type": "code",
   "execution_count": 13,
   "metadata": {},
   "outputs": [
    {
     "name": "stdout",
     "output_type": "stream",
     "text": [
      "before correction: 51    20.2x\n",
      "Name: Composite, dtype: object\n",
      "after correction: 51    20.2\n",
      "Name: Composite, dtype: object\n"
     ]
    }
   ],
   "source": [
    "print('before correction:',df_act_2017[df_act_2017['State']=='Wyoming']['Composite'])\n",
    "# act_2017 dataset: update the last row of column 'Composite' to '20.2'\n",
    "df_act_2017.loc[51,'Composite'] = '20.2'\n",
    "print('after correction:',df_act_2017[df_act_2017['State']=='Wyoming']['Composite'])"
   ]
  },
  {
   "cell_type": "markdown",
   "metadata": {},
   "source": [
    "- Finish your data modifications by making sure the columns are now typed appropriately."
   ]
  },
  {
   "cell_type": "code",
   "execution_count": 14,
   "metadata": {},
   "outputs": [],
   "source": [
    "df_act_2017['Composite'] = df_act_2017['Composite'].astype(float)"
   ]
  },
  {
   "cell_type": "markdown",
   "metadata": {},
   "source": [
    "- Display the data types again to confirm they are correct."
   ]
  },
  {
   "cell_type": "code",
   "execution_count": 15,
   "metadata": {},
   "outputs": [
    {
     "name": "stdout",
     "output_type": "stream",
     "text": [
      "Data types for the sat_2017 dataframe:\n"
     ]
    },
    {
     "data": {
      "text/plain": [
       "State                                  object\n",
       "Participation                         float64\n",
       "Evidence-Based Reading and Writing      int64\n",
       "Math                                    int64\n",
       "Total                                   int64\n",
       "dtype: object"
      ]
     },
     "metadata": {},
     "output_type": "display_data"
    },
    {
     "name": "stdout",
     "output_type": "stream",
     "text": [
      "\n",
      "Data types for the act_2017 dataframe:\n"
     ]
    },
    {
     "data": {
      "text/plain": [
       "State             object\n",
       "Participation    float64\n",
       "English          float64\n",
       "Math             float64\n",
       "Reading          float64\n",
       "Science          float64\n",
       "Composite        float64\n",
       "dtype: object"
      ]
     },
     "metadata": {},
     "output_type": "display_data"
    }
   ],
   "source": [
    "print('Data types for the sat_2017 dataframe:')\n",
    "display(df_sat_2017.dtypes)\n",
    "print()\n",
    "print('Data types for the act_2017 dataframe:')\n",
    "display(df_act_2017.dtypes)"
   ]
  },
  {
   "cell_type": "markdown",
   "metadata": {},
   "source": [
    "#### 7. Rename Columns\n",
    "Change the names of the columns to more expressive names so that you can tell the difference the SAT columns and the ACT columns. Your solution should map all column names being changed at once (no repeated singular name-changes). **We will be combining these data with some of the data from 2018, and so you should name columns in an appropriate way**.\n",
    "\n",
    "**Guidelines**:\n",
    "- Column names should be all lowercase (you will thank yourself when you start pushing data to SQL later in the course)\n",
    "- Column names should not contain spaces (underscores will suffice--this allows for using the `df.column_name` method to access columns in addition to `df['column_name']`.\n",
    "- Column names should be unique and informative (the only feature that we actually share between dataframes is the state)."
   ]
  },
  {
   "cell_type": "code",
   "execution_count": 16,
   "metadata": {},
   "outputs": [],
   "source": [
    "df_sat_2017.columns = ['state','sat_participation','sat_ebrw','sat_math','sat_total']\n",
    "df_act_2017.columns = ['state','act_participation','act_english','act_math','act_reading','act_science','act_composite']"
   ]
  },
  {
   "cell_type": "code",
   "execution_count": 17,
   "metadata": {},
   "outputs": [
    {
     "name": "stdout",
     "output_type": "stream",
     "text": [
      "Columns for the sat_2017 dataframe:\n",
      "Index(['state', 'sat_participation', 'sat_ebrw', 'sat_math', 'sat_total'], dtype='object')\n",
      "Columns for the act_2017 dataframe:\n",
      "Index(['state', 'act_participation', 'act_english', 'act_math', 'act_reading',\n",
      "       'act_science', 'act_composite'],\n",
      "      dtype='object')\n"
     ]
    }
   ],
   "source": [
    "print('Columns for the sat_2017 dataframe:')\n",
    "print(df_sat_2017.columns)\n",
    "print('Columns for the act_2017 dataframe:')\n",
    "print(df_act_2017.columns)"
   ]
  },
  {
   "cell_type": "markdown",
   "metadata": {},
   "source": [
    "#### 8. Create a data dictionary\n",
    "\n",
    "Now that we've fixed our data, and given it appropriate names, let's create a [data dictionary](http://library.ucmerced.edu/node/10249). \n",
    "\n",
    "A data dictionary provides a quick overview of features/variables/columns, alongside data types and descriptions. The more descriptive you can be, the more useful this document is.\n",
    "\n",
    "Example of a Fictional Data Dictionary Entry: \n",
    "\n",
    "|Feature|Type|Dataset|Description|\n",
    "|---|---|---|---|\n",
    "|**county_pop**|*integer*|2010 census|The population of the county (units in thousands, where 2.5 represents 2500 people).| \n",
    "|**per_poverty**|*float*|2010 census|The percent of the county over the age of 18 living below the 200% of official US poverty rate (units percent to two decimal places 98.10 means 98.1%)|\n",
    "\n",
    "[Here's a quick link to a short guide for formatting markdown in Jupyter notebooks](https://jupyter-notebook.readthedocs.io/en/stable/examples/Notebook/Working%20With%20Markdown%20Cells.html).\n",
    "\n",
    "Provided is the skeleton for formatting a markdown table, with columns headers that will help you create a data dictionary to quickly summarize your data, as well as some examples. **This would be a great thing to copy and paste into your custom README for this project.**"
   ]
  },
  {
   "cell_type": "markdown",
   "metadata": {},
   "source": [
    "|Feature|Type|Dataset|Description|\n",
    "|---|---|---|---|\n",
    "|column name|int/float/object|ACT/SAT|This is an example| \n"
   ]
  },
  {
   "cell_type": "markdown",
   "metadata": {},
   "source": [
    "Please refer to my README file.\n",
    "\n",
    "|Feature|Type|Dataset|Description|\n",
    "|---|---|---|---|\n",
    "|state|object|ACT/SAT|The name of the state pertaining to this row of data|\n",
    "|act_participation|float|ACT|The participation rate for ACT|\n",
    "|act_english|float|ACT|The mean score for ACT English|\n",
    "|act_math|float|ACT|The mean score for ACT Math|\n",
    "|act_reading|float|ACT|The mean score for ACT Reading|\n",
    "|act_science|float|ACT|The mean score for ACT Science|\n",
    "|act_composite|float|ACT|The mean composite score for ACT|\n",
    "|sat_participation|object|SAT|The participation rate for SAT|\n",
    "|sat_ebrw|integer|SAT|The mean score for SAT Evidence Based Reading and Writing|\n",
    "|sat_math|integer|SAT|The mean score for SAT Math|\n",
    "|sat_total|integer|SAT|The mean total score for SAT|"
   ]
  },
  {
   "cell_type": "markdown",
   "metadata": {},
   "source": [
    "#### 9. Drop unnecessary rows\n",
    "\n",
    "One of our dataframes contains an extra row. Identify and remove this from the dataframe."
   ]
  },
  {
   "cell_type": "code",
   "execution_count": 18,
   "metadata": {},
   "outputs": [
    {
     "data": {
      "text/html": [
       "<div>\n",
       "<style scoped>\n",
       "    .dataframe tbody tr th:only-of-type {\n",
       "        vertical-align: middle;\n",
       "    }\n",
       "\n",
       "    .dataframe tbody tr th {\n",
       "        vertical-align: top;\n",
       "    }\n",
       "\n",
       "    .dataframe thead th {\n",
       "        text-align: right;\n",
       "    }\n",
       "</style>\n",
       "<table border=\"1\" class=\"dataframe\">\n",
       "  <thead>\n",
       "    <tr style=\"text-align: right;\">\n",
       "      <th></th>\n",
       "      <th>state</th>\n",
       "      <th>act_participation</th>\n",
       "      <th>act_english</th>\n",
       "      <th>act_math</th>\n",
       "      <th>act_reading</th>\n",
       "      <th>act_science</th>\n",
       "      <th>act_composite</th>\n",
       "    </tr>\n",
       "  </thead>\n",
       "  <tbody>\n",
       "    <tr>\n",
       "      <th>0</th>\n",
       "      <td>National</td>\n",
       "      <td>0.60</td>\n",
       "      <td>20.3</td>\n",
       "      <td>20.7</td>\n",
       "      <td>21.4</td>\n",
       "      <td>21.0</td>\n",
       "      <td>21.0</td>\n",
       "    </tr>\n",
       "    <tr>\n",
       "      <th>1</th>\n",
       "      <td>Alabama</td>\n",
       "      <td>1.00</td>\n",
       "      <td>18.9</td>\n",
       "      <td>18.4</td>\n",
       "      <td>19.7</td>\n",
       "      <td>19.4</td>\n",
       "      <td>19.2</td>\n",
       "    </tr>\n",
       "    <tr>\n",
       "      <th>2</th>\n",
       "      <td>Alaska</td>\n",
       "      <td>0.65</td>\n",
       "      <td>18.7</td>\n",
       "      <td>19.8</td>\n",
       "      <td>20.4</td>\n",
       "      <td>19.9</td>\n",
       "      <td>19.8</td>\n",
       "    </tr>\n",
       "  </tbody>\n",
       "</table>\n",
       "</div>"
      ],
      "text/plain": [
       "      state  act_participation  act_english  act_math  act_reading  \\\n",
       "0  National               0.60         20.3      20.7         21.4   \n",
       "1   Alabama               1.00         18.9      18.4         19.7   \n",
       "2    Alaska               0.65         18.7      19.8         20.4   \n",
       "\n",
       "   act_science  act_composite  \n",
       "0         21.0           21.0  \n",
       "1         19.4           19.2  \n",
       "2         19.9           19.8  "
      ]
     },
     "execution_count": 18,
     "metadata": {},
     "output_type": "execute_result"
    }
   ],
   "source": [
    "df_act_2017.head(3)\n",
    "# the first row, where act_state == 'National' should be dropped."
   ]
  },
  {
   "cell_type": "code",
   "execution_count": 19,
   "metadata": {},
   "outputs": [],
   "source": [
    "#drop first row\n",
    "df_act_2017.drop(0, axis=0, inplace=True)"
   ]
  },
  {
   "cell_type": "code",
   "execution_count": 20,
   "metadata": {},
   "outputs": [
    {
     "data": {
      "text/html": [
       "<div>\n",
       "<style scoped>\n",
       "    .dataframe tbody tr th:only-of-type {\n",
       "        vertical-align: middle;\n",
       "    }\n",
       "\n",
       "    .dataframe tbody tr th {\n",
       "        vertical-align: top;\n",
       "    }\n",
       "\n",
       "    .dataframe thead th {\n",
       "        text-align: right;\n",
       "    }\n",
       "</style>\n",
       "<table border=\"1\" class=\"dataframe\">\n",
       "  <thead>\n",
       "    <tr style=\"text-align: right;\">\n",
       "      <th></th>\n",
       "      <th>state</th>\n",
       "      <th>act_participation</th>\n",
       "      <th>act_english</th>\n",
       "      <th>act_math</th>\n",
       "      <th>act_reading</th>\n",
       "      <th>act_science</th>\n",
       "      <th>act_composite</th>\n",
       "    </tr>\n",
       "  </thead>\n",
       "  <tbody>\n",
       "    <tr>\n",
       "      <th>1</th>\n",
       "      <td>Alabama</td>\n",
       "      <td>1.00</td>\n",
       "      <td>18.9</td>\n",
       "      <td>18.4</td>\n",
       "      <td>19.7</td>\n",
       "      <td>19.4</td>\n",
       "      <td>19.2</td>\n",
       "    </tr>\n",
       "    <tr>\n",
       "      <th>2</th>\n",
       "      <td>Alaska</td>\n",
       "      <td>0.65</td>\n",
       "      <td>18.7</td>\n",
       "      <td>19.8</td>\n",
       "      <td>20.4</td>\n",
       "      <td>19.9</td>\n",
       "      <td>19.8</td>\n",
       "    </tr>\n",
       "    <tr>\n",
       "      <th>3</th>\n",
       "      <td>Arizona</td>\n",
       "      <td>0.62</td>\n",
       "      <td>18.6</td>\n",
       "      <td>19.8</td>\n",
       "      <td>20.1</td>\n",
       "      <td>19.8</td>\n",
       "      <td>19.7</td>\n",
       "    </tr>\n",
       "  </tbody>\n",
       "</table>\n",
       "</div>"
      ],
      "text/plain": [
       "     state  act_participation  act_english  act_math  act_reading  \\\n",
       "1  Alabama               1.00         18.9      18.4         19.7   \n",
       "2   Alaska               0.65         18.7      19.8         20.4   \n",
       "3  Arizona               0.62         18.6      19.8         20.1   \n",
       "\n",
       "   act_science  act_composite  \n",
       "1         19.4           19.2  \n",
       "2         19.9           19.8  \n",
       "3         19.8           19.7  "
      ]
     },
     "metadata": {},
     "output_type": "display_data"
    },
    {
     "data": {
      "text/plain": [
       "(51, 7)"
      ]
     },
     "execution_count": 20,
     "metadata": {},
     "output_type": "execute_result"
    }
   ],
   "source": [
    "display(df_act_2017.head(3))\n",
    "df_act_2017.shape"
   ]
  },
  {
   "cell_type": "markdown",
   "metadata": {},
   "source": [
    "#### 10. Merge Dataframes\n",
    "\n",
    "Join the 2017 ACT and SAT dataframes using the state in each dataframe as the key. Assign this to a new variable."
   ]
  },
  {
   "cell_type": "code",
   "execution_count": 21,
   "metadata": {},
   "outputs": [],
   "source": [
    "df_combined_2017 = df_act_2017.merge(df_sat_2017,how='outer')"
   ]
  },
  {
   "cell_type": "code",
   "execution_count": 118,
   "metadata": {},
   "outputs": [
    {
     "data": {
      "text/plain": [
       "state                 object\n",
       "act_participation    float64\n",
       "act_english          float64\n",
       "act_math             float64\n",
       "act_reading          float64\n",
       "act_science          float64\n",
       "act_composite        float64\n",
       "sat_participation    float64\n",
       "sat_ebrw               int64\n",
       "sat_math               int64\n",
       "sat_total              int64\n",
       "dtype: object"
      ]
     },
     "execution_count": 118,
     "metadata": {},
     "output_type": "execute_result"
    }
   ],
   "source": [
    "df_combined_2017.dtypes"
   ]
  },
  {
   "cell_type": "code",
   "execution_count": 22,
   "metadata": {},
   "outputs": [
    {
     "data": {
      "text/html": [
       "<div>\n",
       "<style scoped>\n",
       "    .dataframe tbody tr th:only-of-type {\n",
       "        vertical-align: middle;\n",
       "    }\n",
       "\n",
       "    .dataframe tbody tr th {\n",
       "        vertical-align: top;\n",
       "    }\n",
       "\n",
       "    .dataframe thead th {\n",
       "        text-align: right;\n",
       "    }\n",
       "</style>\n",
       "<table border=\"1\" class=\"dataframe\">\n",
       "  <thead>\n",
       "    <tr style=\"text-align: right;\">\n",
       "      <th></th>\n",
       "      <th>state</th>\n",
       "      <th>act_participation</th>\n",
       "      <th>act_english</th>\n",
       "      <th>act_math</th>\n",
       "      <th>act_reading</th>\n",
       "      <th>act_science</th>\n",
       "      <th>act_composite</th>\n",
       "      <th>sat_participation</th>\n",
       "      <th>sat_ebrw</th>\n",
       "      <th>sat_math</th>\n",
       "      <th>sat_total</th>\n",
       "    </tr>\n",
       "  </thead>\n",
       "  <tbody>\n",
       "    <tr>\n",
       "      <th>0</th>\n",
       "      <td>Alabama</td>\n",
       "      <td>1.00</td>\n",
       "      <td>18.9</td>\n",
       "      <td>18.4</td>\n",
       "      <td>19.7</td>\n",
       "      <td>19.4</td>\n",
       "      <td>19.2</td>\n",
       "      <td>0.05</td>\n",
       "      <td>593</td>\n",
       "      <td>572</td>\n",
       "      <td>1165</td>\n",
       "    </tr>\n",
       "    <tr>\n",
       "      <th>1</th>\n",
       "      <td>Alaska</td>\n",
       "      <td>0.65</td>\n",
       "      <td>18.7</td>\n",
       "      <td>19.8</td>\n",
       "      <td>20.4</td>\n",
       "      <td>19.9</td>\n",
       "      <td>19.8</td>\n",
       "      <td>0.38</td>\n",
       "      <td>547</td>\n",
       "      <td>533</td>\n",
       "      <td>1080</td>\n",
       "    </tr>\n",
       "    <tr>\n",
       "      <th>2</th>\n",
       "      <td>Arizona</td>\n",
       "      <td>0.62</td>\n",
       "      <td>18.6</td>\n",
       "      <td>19.8</td>\n",
       "      <td>20.1</td>\n",
       "      <td>19.8</td>\n",
       "      <td>19.7</td>\n",
       "      <td>0.30</td>\n",
       "      <td>563</td>\n",
       "      <td>553</td>\n",
       "      <td>1116</td>\n",
       "    </tr>\n",
       "    <tr>\n",
       "      <th>3</th>\n",
       "      <td>Arkansas</td>\n",
       "      <td>1.00</td>\n",
       "      <td>18.9</td>\n",
       "      <td>19.0</td>\n",
       "      <td>19.7</td>\n",
       "      <td>19.5</td>\n",
       "      <td>19.4</td>\n",
       "      <td>0.03</td>\n",
       "      <td>614</td>\n",
       "      <td>594</td>\n",
       "      <td>1208</td>\n",
       "    </tr>\n",
       "    <tr>\n",
       "      <th>4</th>\n",
       "      <td>California</td>\n",
       "      <td>0.31</td>\n",
       "      <td>22.5</td>\n",
       "      <td>22.7</td>\n",
       "      <td>23.1</td>\n",
       "      <td>22.2</td>\n",
       "      <td>22.8</td>\n",
       "      <td>0.53</td>\n",
       "      <td>531</td>\n",
       "      <td>524</td>\n",
       "      <td>1055</td>\n",
       "    </tr>\n",
       "  </tbody>\n",
       "</table>\n",
       "</div>"
      ],
      "text/plain": [
       "        state  act_participation  act_english  act_math  act_reading  \\\n",
       "0     Alabama               1.00         18.9      18.4         19.7   \n",
       "1      Alaska               0.65         18.7      19.8         20.4   \n",
       "2     Arizona               0.62         18.6      19.8         20.1   \n",
       "3    Arkansas               1.00         18.9      19.0         19.7   \n",
       "4  California               0.31         22.5      22.7         23.1   \n",
       "\n",
       "   act_science  act_composite  sat_participation  sat_ebrw  sat_math  \\\n",
       "0         19.4           19.2               0.05       593       572   \n",
       "1         19.9           19.8               0.38       547       533   \n",
       "2         19.8           19.7               0.30       563       553   \n",
       "3         19.5           19.4               0.03       614       594   \n",
       "4         22.2           22.8               0.53       531       524   \n",
       "\n",
       "   sat_total  \n",
       "0       1165  \n",
       "1       1080  \n",
       "2       1116  \n",
       "3       1208  \n",
       "4       1055  "
      ]
     },
     "execution_count": 22,
     "metadata": {},
     "output_type": "execute_result"
    }
   ],
   "source": [
    "df_combined_2017.head()"
   ]
  },
  {
   "cell_type": "markdown",
   "metadata": {},
   "source": [
    "#### 11. Save your cleaned, merged dataframe\n",
    "\n",
    "Use a relative path to save out your data as `combined_2017.csv`."
   ]
  },
  {
   "cell_type": "code",
   "execution_count": 23,
   "metadata": {},
   "outputs": [],
   "source": [
    "df_combined_2017.to_csv('./combined_2017.csv')"
   ]
  },
  {
   "cell_type": "markdown",
   "metadata": {},
   "source": [
    "## 2018 Data Import and Cleaning"
   ]
  },
  {
   "cell_type": "markdown",
   "metadata": {},
   "source": [
    "Links to the 2018 ACT and SAT data are provided in the README. These data live in PDFs, and so you'll get to enjoy practicing some *manual* data collection. Save these data as a CSV in your `data` directory, and import, explore, and clean these data in the same way you did above. **Make sure you comment on your steps so it is clear *why* you are doing each process**."
   ]
  },
  {
   "cell_type": "code",
   "execution_count": 24,
   "metadata": {},
   "outputs": [],
   "source": [
    "# Step 1\n",
    "# the data provided in the file act_2018.csv was incomplete i.e. columns for english/math/reading/science scores were missing\n",
    "# sourced for 2018 ACT Average Scores by State from - https://magoosh.com/hs/act/2016/average-act-score-by-state/\n",
    "# augmented the file with data from above web page; saved as act_2018_augmented.csv - added english/math/reading/science scores\n",
    "\n",
    "# Step 2\n",
    "# noted that there were 3 discrepancies in the Composite scores from act_2018.csv vs. from the above website as follows:\n",
    "# (1) Delaware / Composite score: 23.8 (act_2018.csv) vs. 23.2 (web page)\n",
    "# (2) Michigan / Composite score: 24.2 (act_2018.csv) vs. 24.4 (web page)\n",
    "# (3) Texas / Composite score: 20.7 (act_2018.csv) vs. 20.6 (web page)\n",
    "# Chose to ignore the values from the web page and use the values from act_2018.csv as provided.\n",
    "\n",
    "# Step 3\n",
    "# removed duplicated columns from act_2018.csv\n",
    "# removed duplicated row directly from act_2018.csv (State = 'Maine')\n",
    "\n",
    "# Step 4\n",
    "# load datasets into respective dataframes\n",
    "df_sat_2018 = pd.read_csv('sat_2018.csv')\n",
    "df_act_2018 = pd.read_csv('act_2018_augmented.csv')"
   ]
  },
  {
   "cell_type": "code",
   "execution_count": 25,
   "metadata": {},
   "outputs": [
    {
     "data": {
      "text/plain": [
       "State                                 object\n",
       "Participation                         object\n",
       "Evidence-Based Reading and Writing     int64\n",
       "Math                                   int64\n",
       "Total                                  int64\n",
       "dtype: object"
      ]
     },
     "metadata": {},
     "output_type": "display_data"
    },
    {
     "data": {
      "text/plain": [
       "State             object\n",
       "Participation     object\n",
       "Composite        float64\n",
       "English          float64\n",
       "Math             float64\n",
       "Reading          float64\n",
       "Science          float64\n",
       "dtype: object"
      ]
     },
     "metadata": {},
     "output_type": "display_data"
    }
   ],
   "source": [
    "# check datatypes of both dfs\n",
    "display(df_sat_2018.dtypes)\n",
    "display(df_act_2018.dtypes)"
   ]
  },
  {
   "cell_type": "code",
   "execution_count": 26,
   "metadata": {},
   "outputs": [
    {
     "data": {
      "text/html": [
       "<div>\n",
       "<style scoped>\n",
       "    .dataframe tbody tr th:only-of-type {\n",
       "        vertical-align: middle;\n",
       "    }\n",
       "\n",
       "    .dataframe tbody tr th {\n",
       "        vertical-align: top;\n",
       "    }\n",
       "\n",
       "    .dataframe thead th {\n",
       "        text-align: right;\n",
       "    }\n",
       "</style>\n",
       "<table border=\"1\" class=\"dataframe\">\n",
       "  <thead>\n",
       "    <tr style=\"text-align: right;\">\n",
       "      <th></th>\n",
       "      <th>State</th>\n",
       "      <th>Participation</th>\n",
       "      <th>Evidence-Based Reading and Writing</th>\n",
       "      <th>Math</th>\n",
       "      <th>Total</th>\n",
       "    </tr>\n",
       "  </thead>\n",
       "  <tbody>\n",
       "    <tr>\n",
       "      <th>0</th>\n",
       "      <td>Alabama</td>\n",
       "      <td>6%</td>\n",
       "      <td>595</td>\n",
       "      <td>571</td>\n",
       "      <td>1166</td>\n",
       "    </tr>\n",
       "    <tr>\n",
       "      <th>1</th>\n",
       "      <td>Alaska</td>\n",
       "      <td>43%</td>\n",
       "      <td>562</td>\n",
       "      <td>544</td>\n",
       "      <td>1106</td>\n",
       "    </tr>\n",
       "    <tr>\n",
       "      <th>2</th>\n",
       "      <td>Arizona</td>\n",
       "      <td>29%</td>\n",
       "      <td>577</td>\n",
       "      <td>572</td>\n",
       "      <td>1149</td>\n",
       "    </tr>\n",
       "    <tr>\n",
       "      <th>3</th>\n",
       "      <td>Arkansas</td>\n",
       "      <td>5%</td>\n",
       "      <td>592</td>\n",
       "      <td>576</td>\n",
       "      <td>1169</td>\n",
       "    </tr>\n",
       "    <tr>\n",
       "      <th>4</th>\n",
       "      <td>California</td>\n",
       "      <td>60%</td>\n",
       "      <td>540</td>\n",
       "      <td>536</td>\n",
       "      <td>1076</td>\n",
       "    </tr>\n",
       "  </tbody>\n",
       "</table>\n",
       "</div>"
      ],
      "text/plain": [
       "        State Participation  Evidence-Based Reading and Writing  Math  Total\n",
       "0     Alabama            6%                                 595   571   1166\n",
       "1      Alaska           43%                                 562   544   1106\n",
       "2     Arizona           29%                                 577   572   1149\n",
       "3    Arkansas            5%                                 592   576   1169\n",
       "4  California           60%                                 540   536   1076"
      ]
     },
     "execution_count": 26,
     "metadata": {},
     "output_type": "execute_result"
    }
   ],
   "source": [
    "df_sat_2018.head()"
   ]
  },
  {
   "cell_type": "code",
   "execution_count": 27,
   "metadata": {},
   "outputs": [
    {
     "data": {
      "text/plain": [
       "(51, 5)"
      ]
     },
     "metadata": {},
     "output_type": "display_data"
    },
    {
     "data": {
      "text/plain": [
       "(51, 7)"
      ]
     },
     "metadata": {},
     "output_type": "display_data"
    },
    {
     "data": {
      "text/plain": [
       "State            0\n",
       "Participation    0\n",
       "Composite        0\n",
       "English          0\n",
       "Math             0\n",
       "Reading          0\n",
       "Science          0\n",
       "dtype: int64"
      ]
     },
     "execution_count": 27,
     "metadata": {},
     "output_type": "execute_result"
    }
   ],
   "source": [
    "# dtypes of both dfs are appropriate\n",
    "# check for shape\n",
    "display(df_sat_2018.shape)\n",
    "display(df_act_2018.shape)\n",
    "\n",
    "# check for null/NaN values\n",
    "df_sat_2018.isnull().sum()\n",
    "df_sat_2018.isna().sum()\n",
    "df_act_2018.isnull().sum()\n",
    "df_act_2018.isna().sum()\n",
    "\n",
    "# there are no null/NaN values in both dfs"
   ]
  },
  {
   "cell_type": "code",
   "execution_count": 28,
   "metadata": {},
   "outputs": [],
   "source": [
    "# visually check data of both dfs\n",
    "# df_sat_2018\n",
    "# df_act_2018"
   ]
  },
  {
   "cell_type": "code",
   "execution_count": 29,
   "metadata": {},
   "outputs": [],
   "source": [
    "# convert the Participation column of both dfs to a numeric rate i.e. 0.0 - 1.0 for later use\n",
    "# remove the '%' symbol and then convert of float type\n",
    "df_sat_2018['Participation'] = df_sat_2018['Participation'].apply(remove_percent_symbol).astype(float)/100\n",
    "df_act_2018['Participation'] = df_act_2018['Participation'].apply(remove_percent_symbol).astype(float)/100"
   ]
  },
  {
   "cell_type": "code",
   "execution_count": 30,
   "metadata": {},
   "outputs": [
    {
     "data": {
      "text/plain": [
       "State                                  object\n",
       "Participation                         float64\n",
       "Evidence-Based Reading and Writing      int64\n",
       "Math                                    int64\n",
       "Total                                   int64\n",
       "dtype: object"
      ]
     },
     "metadata": {},
     "output_type": "display_data"
    },
    {
     "data": {
      "text/plain": [
       "State             object\n",
       "Participation    float64\n",
       "Composite        float64\n",
       "English          float64\n",
       "Math             float64\n",
       "Reading          float64\n",
       "Science          float64\n",
       "dtype: object"
      ]
     },
     "metadata": {},
     "output_type": "display_data"
    }
   ],
   "source": [
    "# confirm dtypes of both dfs\n",
    "display(df_sat_2018.dtypes)\n",
    "display(df_act_2018.dtypes)"
   ]
  },
  {
   "cell_type": "code",
   "execution_count": 31,
   "metadata": {},
   "outputs": [],
   "source": [
    "# rename columns of both dfs\n",
    "df_sat_2018.columns = ['state','sat_participation','sat_ebrw','sat_math','sat_total']\n",
    "df_act_2018.columns = ['state','act_participation','act_english','act_math','act_reading','act_science','act_composite']"
   ]
  },
  {
   "cell_type": "code",
   "execution_count": 32,
   "metadata": {},
   "outputs": [
    {
     "data": {
      "text/plain": [
       "Index(['state', 'sat_participation', 'sat_ebrw', 'sat_math', 'sat_total'], dtype='object')"
      ]
     },
     "metadata": {},
     "output_type": "display_data"
    },
    {
     "data": {
      "text/plain": [
       "Index(['state', 'act_participation', 'act_english', 'act_math', 'act_reading',\n",
       "       'act_science', 'act_composite'],\n",
       "      dtype='object')"
      ]
     },
     "metadata": {},
     "output_type": "display_data"
    }
   ],
   "source": [
    "# check column names for both dfs\n",
    "display(df_sat_2018.columns)\n",
    "display(df_act_2018.columns)"
   ]
  },
  {
   "cell_type": "code",
   "execution_count": 33,
   "metadata": {},
   "outputs": [],
   "source": [
    "# update 'state' column in df_act_2018 to change 'District of columbia' to 'District of Columbia' (with capital 'C')\n",
    "# this will now match the spelling of the same state in df_sat_2018 so that data will merge on the same row\n",
    "df_act_2018.loc[8,'state'] = 'District of Columbia'"
   ]
  },
  {
   "cell_type": "code",
   "execution_count": 34,
   "metadata": {},
   "outputs": [
    {
     "data": {
      "text/plain": [
       "state                District of Columbia\n",
       "act_participation                    0.32\n",
       "act_english                          23.6\n",
       "act_math                             23.7\n",
       "act_reading                          22.7\n",
       "act_science                          24.4\n",
       "act_composite                          23\n",
       "Name: 8, dtype: object"
      ]
     },
     "execution_count": 34,
     "metadata": {},
     "output_type": "execute_result"
    }
   ],
   "source": [
    "# check that df_act_2018 is OK\n",
    "df_act_2018.loc[8,:]\n",
    "\n",
    "# both datasets are ready to me merged!"
   ]
  },
  {
   "cell_type": "markdown",
   "metadata": {},
   "source": [
    "#### Combine your 2017 and 2018 data into a single dataframe\n",
    "Joining on state names should work, assuming you formatted all your state names identically. Make sure none of your columns (other than state) have identical names. Do yourself a favor and decide if you're encoding participation rates as floats or integers and standardize this across your datasets.\n",
    "\n",
    "Save the contents of this merged dataframe as `final.csv`.\n",
    "\n",
    "**Use this combined dataframe for the remainder of the project**."
   ]
  },
  {
   "cell_type": "code",
   "execution_count": 35,
   "metadata": {},
   "outputs": [],
   "source": [
    "# merge df_act_2018 and df_sat_2018 into df_final\n",
    "df_final = df_act_2018.merge(df_sat_2018,how='outer')"
   ]
  },
  {
   "cell_type": "code",
   "execution_count": 36,
   "metadata": {},
   "outputs": [
    {
     "name": "stdout",
     "output_type": "stream",
     "text": [
      "<class 'pandas.core.frame.DataFrame'>\n",
      "Int64Index: 51 entries, 0 to 50\n",
      "Data columns (total 11 columns):\n",
      "state                51 non-null object\n",
      "act_participation    51 non-null float64\n",
      "act_english          51 non-null float64\n",
      "act_math             51 non-null float64\n",
      "act_reading          51 non-null float64\n",
      "act_science          51 non-null float64\n",
      "act_composite        51 non-null float64\n",
      "sat_participation    51 non-null float64\n",
      "sat_ebrw             51 non-null int64\n",
      "sat_math             51 non-null int64\n",
      "sat_total            51 non-null int64\n",
      "dtypes: float64(7), int64(3), object(1)\n",
      "memory usage: 4.8+ KB\n"
     ]
    }
   ],
   "source": [
    "# check the merged df_final\n",
    "df_final\n",
    "df_final.info()"
   ]
  },
  {
   "cell_type": "code",
   "execution_count": 37,
   "metadata": {},
   "outputs": [],
   "source": [
    "df_final.to_csv('./final.csv')"
   ]
  },
  {
   "cell_type": "markdown",
   "metadata": {},
   "source": [
    "## Exploratory Data Analysis\n",
    "\n",
    "\n",
    "### Summary Statistics\n",
    "Transpose the output of pandas `describe` method to create a quick overview of each numeric feature."
   ]
  },
  {
   "cell_type": "code",
   "execution_count": 38,
   "metadata": {},
   "outputs": [
    {
     "data": {
      "text/html": [
       "<div>\n",
       "<style scoped>\n",
       "    .dataframe tbody tr th:only-of-type {\n",
       "        vertical-align: middle;\n",
       "    }\n",
       "\n",
       "    .dataframe tbody tr th {\n",
       "        vertical-align: top;\n",
       "    }\n",
       "\n",
       "    .dataframe thead th {\n",
       "        text-align: right;\n",
       "    }\n",
       "</style>\n",
       "<table border=\"1\" class=\"dataframe\">\n",
       "  <thead>\n",
       "    <tr style=\"text-align: right;\">\n",
       "      <th></th>\n",
       "      <th>count</th>\n",
       "      <th>mean</th>\n",
       "      <th>std</th>\n",
       "      <th>min</th>\n",
       "      <th>25%</th>\n",
       "      <th>50%</th>\n",
       "      <th>75%</th>\n",
       "      <th>max</th>\n",
       "    </tr>\n",
       "  </thead>\n",
       "  <tbody>\n",
       "    <tr>\n",
       "      <th>act_participation</th>\n",
       "      <td>51.0</td>\n",
       "      <td>0.617255</td>\n",
       "      <td>0.340371</td>\n",
       "      <td>0.07</td>\n",
       "      <td>0.285</td>\n",
       "      <td>0.66</td>\n",
       "      <td>1.000</td>\n",
       "      <td>1.0</td>\n",
       "    </tr>\n",
       "    <tr>\n",
       "      <th>act_english</th>\n",
       "      <td>51.0</td>\n",
       "      <td>21.496078</td>\n",
       "      <td>2.111583</td>\n",
       "      <td>17.70</td>\n",
       "      <td>19.950</td>\n",
       "      <td>21.30</td>\n",
       "      <td>23.650</td>\n",
       "      <td>25.6</td>\n",
       "    </tr>\n",
       "    <tr>\n",
       "      <th>act_math</th>\n",
       "      <td>51.0</td>\n",
       "      <td>20.988235</td>\n",
       "      <td>2.446356</td>\n",
       "      <td>16.60</td>\n",
       "      <td>19.100</td>\n",
       "      <td>20.20</td>\n",
       "      <td>23.700</td>\n",
       "      <td>26.0</td>\n",
       "    </tr>\n",
       "    <tr>\n",
       "      <th>act_reading</th>\n",
       "      <td>51.0</td>\n",
       "      <td>21.125490</td>\n",
       "      <td>2.035765</td>\n",
       "      <td>17.80</td>\n",
       "      <td>19.400</td>\n",
       "      <td>20.70</td>\n",
       "      <td>23.150</td>\n",
       "      <td>25.2</td>\n",
       "    </tr>\n",
       "    <tr>\n",
       "      <th>act_science</th>\n",
       "      <td>51.0</td>\n",
       "      <td>22.015686</td>\n",
       "      <td>2.167245</td>\n",
       "      <td>18.00</td>\n",
       "      <td>20.450</td>\n",
       "      <td>21.60</td>\n",
       "      <td>24.100</td>\n",
       "      <td>26.1</td>\n",
       "    </tr>\n",
       "    <tr>\n",
       "      <th>act_composite</th>\n",
       "      <td>51.0</td>\n",
       "      <td>21.339216</td>\n",
       "      <td>1.873935</td>\n",
       "      <td>17.90</td>\n",
       "      <td>19.850</td>\n",
       "      <td>21.10</td>\n",
       "      <td>23.050</td>\n",
       "      <td>24.9</td>\n",
       "    </tr>\n",
       "    <tr>\n",
       "      <th>sat_participation</th>\n",
       "      <td>51.0</td>\n",
       "      <td>0.457451</td>\n",
       "      <td>0.373143</td>\n",
       "      <td>0.02</td>\n",
       "      <td>0.045</td>\n",
       "      <td>0.52</td>\n",
       "      <td>0.775</td>\n",
       "      <td>1.0</td>\n",
       "    </tr>\n",
       "    <tr>\n",
       "      <th>sat_ebrw</th>\n",
       "      <td>51.0</td>\n",
       "      <td>563.686275</td>\n",
       "      <td>47.502627</td>\n",
       "      <td>480.00</td>\n",
       "      <td>534.500</td>\n",
       "      <td>552.00</td>\n",
       "      <td>610.500</td>\n",
       "      <td>643.0</td>\n",
       "    </tr>\n",
       "    <tr>\n",
       "      <th>sat_math</th>\n",
       "      <td>51.0</td>\n",
       "      <td>556.235294</td>\n",
       "      <td>47.772623</td>\n",
       "      <td>480.00</td>\n",
       "      <td>522.500</td>\n",
       "      <td>544.00</td>\n",
       "      <td>593.500</td>\n",
       "      <td>655.0</td>\n",
       "    </tr>\n",
       "    <tr>\n",
       "      <th>sat_total</th>\n",
       "      <td>51.0</td>\n",
       "      <td>1120.019608</td>\n",
       "      <td>94.155083</td>\n",
       "      <td>977.00</td>\n",
       "      <td>1057.500</td>\n",
       "      <td>1098.00</td>\n",
       "      <td>1204.000</td>\n",
       "      <td>1298.0</td>\n",
       "    </tr>\n",
       "  </tbody>\n",
       "</table>\n",
       "</div>"
      ],
      "text/plain": [
       "                   count         mean        std     min       25%      50%  \\\n",
       "act_participation   51.0     0.617255   0.340371    0.07     0.285     0.66   \n",
       "act_english         51.0    21.496078   2.111583   17.70    19.950    21.30   \n",
       "act_math            51.0    20.988235   2.446356   16.60    19.100    20.20   \n",
       "act_reading         51.0    21.125490   2.035765   17.80    19.400    20.70   \n",
       "act_science         51.0    22.015686   2.167245   18.00    20.450    21.60   \n",
       "act_composite       51.0    21.339216   1.873935   17.90    19.850    21.10   \n",
       "sat_participation   51.0     0.457451   0.373143    0.02     0.045     0.52   \n",
       "sat_ebrw            51.0   563.686275  47.502627  480.00   534.500   552.00   \n",
       "sat_math            51.0   556.235294  47.772623  480.00   522.500   544.00   \n",
       "sat_total           51.0  1120.019608  94.155083  977.00  1057.500  1098.00   \n",
       "\n",
       "                        75%     max  \n",
       "act_participation     1.000     1.0  \n",
       "act_english          23.650    25.6  \n",
       "act_math             23.700    26.0  \n",
       "act_reading          23.150    25.2  \n",
       "act_science          24.100    26.1  \n",
       "act_composite        23.050    24.9  \n",
       "sat_participation     0.775     1.0  \n",
       "sat_ebrw            610.500   643.0  \n",
       "sat_math            593.500   655.0  \n",
       "sat_total          1204.000  1298.0  "
      ]
     },
     "execution_count": 38,
     "metadata": {},
     "output_type": "execute_result"
    }
   ],
   "source": [
    "df_final.describe().T"
   ]
  },
  {
   "cell_type": "markdown",
   "metadata": {},
   "source": [
    "#### Manually calculate standard deviation\n",
    "\n",
    "$$\\sigma = \\sqrt{\\frac{1}{n}\\sum_{i=1}^n(x_i - \\mu)^2}$$\n",
    "\n",
    "- Write a function to calculate standard deviation using the formula above"
   ]
  },
  {
   "cell_type": "code",
   "execution_count": 39,
   "metadata": {},
   "outputs": [],
   "source": [
    "def std_dev(array):\n",
    "    n = len(array)\n",
    "#     print('n:',n)\n",
    "    u = np.mean(array)\n",
    "#     print('u:',u)\n",
    "    sum = 0\n",
    "    for i in array:\n",
    "        sum += (i-u)**2\n",
    "    return np.sqrt((1/n)*sum)"
   ]
  },
  {
   "cell_type": "code",
   "execution_count": 40,
   "metadata": {},
   "outputs": [],
   "source": [
    "# Test above function on a few rows of df_final\n",
    "# print('std act_participation',std_dev(df_final['act_participation']))\n",
    "# print('std act_english',std_dev(df_final['act_english']))"
   ]
  },
  {
   "cell_type": "markdown",
   "metadata": {},
   "source": [
    "- Use a **dictionary comprehension** to apply your standard deviation function to each numeric column in the dataframe.  **No loops**  \n",
    "- Assign the output to variable `sd` as a dictionary where: \n",
    "    - Each column name is now a key \n",
    "    - That standard deviation of the column is the value \n",
    "     \n",
    "*Example Output :* `{'ACT_Math': 120, 'ACT_Reading': 120, ...}`"
   ]
  },
  {
   "cell_type": "code",
   "execution_count": 41,
   "metadata": {},
   "outputs": [],
   "source": [
    "# consider only columns 1 to 10 as these are numeric. Column 0 ('State') is a string and thus excluded.\n",
    "sd = {i:round(std_dev(df_final[i]),6) for i in list(df_final.columns[1:])}"
   ]
  },
  {
   "cell_type": "code",
   "execution_count": 42,
   "metadata": {},
   "outputs": [
    {
     "data": {
      "text/plain": [
       "{'act_participation': 0.337017,\n",
       " 'act_english': 2.090779,\n",
       " 'act_math': 2.422254,\n",
       " 'act_reading': 2.015707,\n",
       " 'act_science': 2.145892,\n",
       " 'act_composite': 1.855472,\n",
       " 'sat_participation': 0.369466,\n",
       " 'sat_ebrw': 47.03461,\n",
       " 'sat_math': 47.301946,\n",
       " 'sat_total': 93.227424}"
      ]
     },
     "execution_count": 42,
     "metadata": {},
     "output_type": "execute_result"
    }
   ],
   "source": [
    "# Std Dev calculated by my function\n",
    "# round off outputs to 6 decimal places to match pd.describe() output for comparison\n",
    "sd"
   ]
  },
  {
   "cell_type": "code",
   "execution_count": 43,
   "metadata": {},
   "outputs": [
    {
     "data": {
      "text/plain": [
       "act_participation     0.340371\n",
       "act_english           2.111583\n",
       "act_math              2.446356\n",
       "act_reading           2.035765\n",
       "act_science           2.167245\n",
       "act_composite         1.873935\n",
       "sat_participation     0.373143\n",
       "sat_ebrw             47.502627\n",
       "sat_math             47.772623\n",
       "sat_total            94.155083\n",
       "Name: std, dtype: float64"
      ]
     },
     "execution_count": 43,
     "metadata": {},
     "output_type": "execute_result"
    }
   ],
   "source": [
    "# Std Dev calculated by pandas\n",
    "df_final.describe().T['std']"
   ]
  },
  {
   "cell_type": "code",
   "execution_count": 44,
   "metadata": {},
   "outputs": [
    {
     "data": {
      "text/plain": [
       "{'act_participation': 0.337017,\n",
       " 'act_english': 2.090779,\n",
       " 'act_math': 2.422254,\n",
       " 'act_reading': 2.015707,\n",
       " 'act_science': 2.145892,\n",
       " 'act_composite': 1.855472,\n",
       " 'sat_participation': 0.369466,\n",
       " 'sat_ebrw': 47.03461,\n",
       " 'sat_math': 47.301946,\n",
       " 'sat_total': 93.227424}"
      ]
     },
     "execution_count": 44,
     "metadata": {},
     "output_type": "execute_result"
    }
   ],
   "source": [
    "# Std Dev calculated by numpy\n",
    "# replace my function with np.std()\n",
    "{i:round(np.std(df_final[i]),6) for i in list(df_final.columns[1:])}"
   ]
  },
  {
   "cell_type": "markdown",
   "metadata": {},
   "source": [
    "Do your manually calculated standard deviations match up with the output from pandas `describe`? What about numpy's `std` method?"
   ]
  },
  {
   "cell_type": "markdown",
   "metadata": {},
   "source": [
    "## Answer\n",
    "My manually calculated standard deviations match up **exactly** with numpy's std method.\n",
    "\n",
    "My manually calculated standard deviations do no match up **exactly** with panda's describe method, but are similar.\n",
    "\n"
   ]
  },
  {
   "cell_type": "markdown",
   "metadata": {},
   "source": [
    "#### Investigate trends in the data\n",
    "Using sorting and/or masking (along with the `.head` method to not print our entire dataframe), consider the following questions:\n",
    "\n",
    "- Which states have the highest and lowest participation rates for the:\n",
    "    - 2017 SAT?\n",
    "    - 2018 SAT?\n",
    "    - 2017 ACT?\n",
    "    - 2018 ACT?\n",
    "- Which states have the highest and lowest mean total/composite scores for the:\n",
    "    - 2017 SAT?\n",
    "    - 2018 SAT?\n",
    "    - 2017 ACT?\n",
    "    - 2018 ACT?\n",
    "- Do any states with 100% participation on a given test have a rate change year-to-year?\n",
    "- Do any states show have >50% participation on *both* tests either year?\n",
    "\n",
    "Based on what you've just observed, have you identified any states that you're especially interested in? **Make a note of these and state *why* you think they're interesting**.\n",
    "\n",
    "**You should comment on your findings at each step in a markdown cell below your code block**. Make sure you include at least one example of sorting your dataframe by a column, and one example of using boolean filtering (i.e., masking) to select a subset of the dataframe."
   ]
  },
  {
   "cell_type": "markdown",
   "metadata": {},
   "source": [
    "### Which states have the highest and lowest participation rates for the:\n",
    "    - 2017 SAT?\n",
    "    - 2018 SAT?\n",
    "    - 2017 ACT?\n",
    "    - 2018 ACT?"
   ]
  },
  {
   "cell_type": "code",
   "execution_count": 45,
   "metadata": {},
   "outputs": [
    {
     "data": {
      "text/plain": [
       "6              Connecticut\n",
       "7                 Delaware\n",
       "8     District of Columbia\n",
       "22                Michigan\n",
       "Name: state, dtype: object"
      ]
     },
     "execution_count": 45,
     "metadata": {},
     "output_type": "execute_result"
    }
   ],
   "source": [
    "df_combined_2017[df_combined_2017['sat_participation']==df_combined_2017['sat_participation'].max()]['state']"
   ]
  },
  {
   "cell_type": "markdown",
   "metadata": {},
   "source": [
    "The above states had the **HIGHEST participation** rates for the **2017 SAT**"
   ]
  },
  {
   "cell_type": "code",
   "execution_count": 46,
   "metadata": {},
   "outputs": [
    {
     "data": {
      "text/plain": [
       "15            Iowa\n",
       "24     Mississippi\n",
       "34    North Dakota\n",
       "Name: state, dtype: object"
      ]
     },
     "execution_count": 46,
     "metadata": {},
     "output_type": "execute_result"
    }
   ],
   "source": [
    "df_combined_2017[df_combined_2017['sat_participation']==df_combined_2017['sat_participation'].min()]['state']"
   ]
  },
  {
   "cell_type": "markdown",
   "metadata": {},
   "source": [
    "The above states had the **LOWEST participation** rates for the **2017 SAT**"
   ]
  },
  {
   "cell_type": "code",
   "execution_count": 47,
   "metadata": {},
   "outputs": [
    {
     "data": {
      "text/plain": [
       "5        Colorado\n",
       "6     Connecticut\n",
       "7        Delaware\n",
       "12          Idaho\n",
       "22       Michigan\n",
       "Name: state, dtype: object"
      ]
     },
     "execution_count": 47,
     "metadata": {},
     "output_type": "execute_result"
    }
   ],
   "source": [
    "df_final[df_final['sat_participation']==df_final['sat_participation'].max()]['state']"
   ]
  },
  {
   "cell_type": "markdown",
   "metadata": {},
   "source": [
    "The above states had the **HIGHEST participation** rates for the **2018 SAT**"
   ]
  },
  {
   "cell_type": "code",
   "execution_count": 48,
   "metadata": {},
   "outputs": [
    {
     "data": {
      "text/plain": [
       "34    North Dakota\n",
       "Name: state, dtype: object"
      ]
     },
     "execution_count": 48,
     "metadata": {},
     "output_type": "execute_result"
    }
   ],
   "source": [
    "df_final[df_final['sat_participation']==df_final['sat_participation'].min()]['state']"
   ]
  },
  {
   "cell_type": "markdown",
   "metadata": {},
   "source": [
    "The above state had the **LOWEST participation** rates for the **2018 SAT**"
   ]
  },
  {
   "cell_type": "code",
   "execution_count": 49,
   "metadata": {},
   "outputs": [
    {
     "data": {
      "text/plain": [
       "0            Alabama\n",
       "3           Arkansas\n",
       "5           Colorado\n",
       "17          Kentucky\n",
       "18         Louisiana\n",
       "23         Minnesota\n",
       "24       Mississippi\n",
       "25          Missouri\n",
       "26           Montana\n",
       "28            Nevada\n",
       "33    North Carolina\n",
       "36          Oklahoma\n",
       "40    South Carolina\n",
       "42         Tennessee\n",
       "44              Utah\n",
       "49         Wisconsin\n",
       "50           Wyoming\n",
       "Name: state, dtype: object"
      ]
     },
     "execution_count": 49,
     "metadata": {},
     "output_type": "execute_result"
    }
   ],
   "source": [
    "df_combined_2017[df_combined_2017['act_participation']==df_combined_2017['act_participation'].max()]['state']"
   ]
  },
  {
   "cell_type": "markdown",
   "metadata": {},
   "source": [
    "The above states had the **HIGHEST participation** rates for the **2017 ACT**"
   ]
  },
  {
   "cell_type": "code",
   "execution_count": 50,
   "metadata": {},
   "outputs": [
    {
     "data": {
      "text/plain": [
       "19    Maine\n",
       "Name: state, dtype: object"
      ]
     },
     "execution_count": 50,
     "metadata": {},
     "output_type": "execute_result"
    }
   ],
   "source": [
    "df_combined_2017[df_combined_2017['act_participation']==df_combined_2017['act_participation'].min()]['state']"
   ]
  },
  {
   "cell_type": "markdown",
   "metadata": {},
   "source": [
    "The above state had the **LOWEST participation** rates for the **2017 ACT**"
   ]
  },
  {
   "cell_type": "code",
   "execution_count": 51,
   "metadata": {},
   "outputs": [
    {
     "data": {
      "text/plain": [
       "0            Alabama\n",
       "3           Arkansas\n",
       "17          Kentucky\n",
       "18         Louisiana\n",
       "24       Mississippi\n",
       "25          Missouri\n",
       "26           Montana\n",
       "27          Nebraska\n",
       "28            Nevada\n",
       "33    North Carolina\n",
       "35              Ohio\n",
       "36          Oklahoma\n",
       "40    South Carolina\n",
       "42         Tennessee\n",
       "44              Utah\n",
       "49         Wisconsin\n",
       "50           Wyoming\n",
       "Name: state, dtype: object"
      ]
     },
     "execution_count": 51,
     "metadata": {},
     "output_type": "execute_result"
    }
   ],
   "source": [
    "df_final[df_final['act_participation']==df_final['act_participation'].max()]['state']"
   ]
  },
  {
   "cell_type": "markdown",
   "metadata": {},
   "source": [
    "The above states had the **HIGHEST participation** rates for the **2018 ACT**"
   ]
  },
  {
   "cell_type": "code",
   "execution_count": 52,
   "metadata": {},
   "outputs": [
    {
     "data": {
      "text/plain": [
       "19    Maine\n",
       "Name: state, dtype: object"
      ]
     },
     "execution_count": 52,
     "metadata": {},
     "output_type": "execute_result"
    }
   ],
   "source": [
    "df_final[df_final['act_participation']==df_final['act_participation'].min()]['state']"
   ]
  },
  {
   "cell_type": "markdown",
   "metadata": {},
   "source": [
    "The above state had the **LOWEST participation** rates for the **2017 ACT**"
   ]
  },
  {
   "cell_type": "markdown",
   "metadata": {},
   "source": [
    "### Which states have the highest and lowest mean total/composite scores for the:\n",
    "    - 2017 SAT?\n",
    "    - 2018 SAT?\n",
    "    - 2017 ACT?\n",
    "    - 2018 ACT?"
   ]
  },
  {
   "cell_type": "code",
   "execution_count": 53,
   "metadata": {},
   "outputs": [
    {
     "data": {
      "text/plain": [
       "23    Minnesota\n",
       "Name: state, dtype: object"
      ]
     },
     "execution_count": 53,
     "metadata": {},
     "output_type": "execute_result"
    }
   ],
   "source": [
    "df_combined_2017[df_combined_2017['sat_total']==df_combined_2017['sat_total'].max()]['state']"
   ]
  },
  {
   "cell_type": "markdown",
   "metadata": {},
   "source": [
    "The above state had the **HIGHEST mean total** score for the **2017 SAT**"
   ]
  },
  {
   "cell_type": "code",
   "execution_count": 54,
   "metadata": {},
   "outputs": [
    {
     "data": {
      "text/plain": [
       "8    District of Columbia\n",
       "Name: state, dtype: object"
      ]
     },
     "execution_count": 54,
     "metadata": {},
     "output_type": "execute_result"
    }
   ],
   "source": [
    "df_combined_2017[df_combined_2017['sat_total']==df_combined_2017['sat_total'].min()]['state']"
   ]
  },
  {
   "cell_type": "markdown",
   "metadata": {},
   "source": [
    "The above state had the **LOWEST mean total** score for the **2017 SAT**"
   ]
  },
  {
   "cell_type": "code",
   "execution_count": 55,
   "metadata": {},
   "outputs": [
    {
     "data": {
      "text/plain": [
       "23    Minnesota\n",
       "Name: state, dtype: object"
      ]
     },
     "execution_count": 55,
     "metadata": {},
     "output_type": "execute_result"
    }
   ],
   "source": [
    "df_final[df_final['sat_total']==df_final['sat_total'].max()]['state']"
   ]
  },
  {
   "cell_type": "markdown",
   "metadata": {},
   "source": [
    "The above state had the **HIGHEST mean total** score for the **2018 SAT**"
   ]
  },
  {
   "cell_type": "code",
   "execution_count": 56,
   "metadata": {},
   "outputs": [
    {
     "data": {
      "text/plain": [
       "8    District of Columbia\n",
       "Name: state, dtype: object"
      ]
     },
     "execution_count": 56,
     "metadata": {},
     "output_type": "execute_result"
    }
   ],
   "source": [
    "df_final[df_final['sat_total']==df_final['sat_total'].min()]['state']"
   ]
  },
  {
   "cell_type": "markdown",
   "metadata": {},
   "source": [
    "The above state had the **LOWEST mean total** score for the **2018 SAT**"
   ]
  },
  {
   "cell_type": "code",
   "execution_count": 57,
   "metadata": {},
   "outputs": [
    {
     "data": {
      "text/plain": [
       "29    New Hampshire\n",
       "Name: state, dtype: object"
      ]
     },
     "execution_count": 57,
     "metadata": {},
     "output_type": "execute_result"
    }
   ],
   "source": [
    "df_combined_2017[df_combined_2017['act_composite']==df_combined_2017['act_composite'].max()]['state']"
   ]
  },
  {
   "cell_type": "markdown",
   "metadata": {},
   "source": [
    "The above state had the **HIGHEST composite total** score for the **2017 ACT**"
   ]
  },
  {
   "cell_type": "code",
   "execution_count": 58,
   "metadata": {},
   "outputs": [
    {
     "data": {
      "text/plain": [
       "28    Nevada\n",
       "Name: state, dtype: object"
      ]
     },
     "execution_count": 58,
     "metadata": {},
     "output_type": "execute_result"
    }
   ],
   "source": [
    "df_combined_2017[df_combined_2017['act_composite']==df_combined_2017['act_composite'].min()]['state']"
   ]
  },
  {
   "cell_type": "markdown",
   "metadata": {},
   "source": [
    "The above state had the **LOWEST composite total** score for the **2017 ACT**"
   ]
  },
  {
   "cell_type": "code",
   "execution_count": 59,
   "metadata": {},
   "outputs": [
    {
     "data": {
      "text/plain": [
       "6    Connecticut\n",
       "Name: state, dtype: object"
      ]
     },
     "execution_count": 59,
     "metadata": {},
     "output_type": "execute_result"
    }
   ],
   "source": [
    "df_final[df_final['act_composite']==df_final['act_composite'].max()]['state']"
   ]
  },
  {
   "cell_type": "markdown",
   "metadata": {},
   "source": [
    "The above state had the **HIGHEST composite total** score for the **2018 ACT**"
   ]
  },
  {
   "cell_type": "code",
   "execution_count": 60,
   "metadata": {},
   "outputs": [
    {
     "data": {
      "text/plain": [
       "28    Nevada\n",
       "Name: state, dtype: object"
      ]
     },
     "execution_count": 60,
     "metadata": {},
     "output_type": "execute_result"
    }
   ],
   "source": [
    "df_final[df_final['act_composite']==df_final['act_composite'].min()]['state']"
   ]
  },
  {
   "cell_type": "markdown",
   "metadata": {},
   "source": [
    "The above state had the **LOWEST composite total** score for the **2018 ACT**"
   ]
  },
  {
   "cell_type": "markdown",
   "metadata": {},
   "source": [
    "### Do any states with 100% participation on a given test have a rate change year-to-year?\n",
    "\n"
   ]
  },
  {
   "cell_type": "code",
   "execution_count": 61,
   "metadata": {},
   "outputs": [],
   "source": [
    "full_participation_sat_2017 = sorted(list(df_combined_2017[df_combined_2017['sat_participation']==1.0]['state']))\n",
    "full_participation_sat_2018 = sorted(list(df_final[df_final['sat_participation']==1.0]['state']))\n",
    "full_participation_act_2017 = sorted(list(df_combined_2017[df_combined_2017['act_participation']==1.0]['state']))\n",
    "full_participation_act_2018 = sorted(list(df_final[df_final['act_participation']==1.0]['state']))"
   ]
  },
  {
   "cell_type": "code",
   "execution_count": 62,
   "metadata": {},
   "outputs": [
    {
     "name": "stdout",
     "output_type": "stream",
     "text": [
      "SAT (state, 2017-rate, 2018-rate): [('District of Columbia', 1.0, 0.92)]\n"
     ]
    }
   ],
   "source": [
    "state_changed_rate_sat = []\n",
    "for state in full_participation_sat_2017:\n",
    "    if not state in full_participation_sat_2018:\n",
    "        state_changed_rate_sat.append(state)\n",
    "\n",
    "pr_sat_2017_2018=[]\n",
    "for state in state_changed_rate_sat:\n",
    "    pr_sat_2017_2018.append((state, df_combined_2017[df_combined_2017['state']==state]['sat_participation'].values[0],\n",
    "                             df_final[df_final['state']==state]['sat_participation'].values[0]))\n",
    "\n",
    "print('SAT (state, 2017-rate, 2018-rate):',pr_sat_2017_2018)"
   ]
  },
  {
   "cell_type": "markdown",
   "metadata": {},
   "source": [
    "The above state had 100% participation in 2017 SAT but this changed in the 2018 SAT"
   ]
  },
  {
   "cell_type": "code",
   "execution_count": 63,
   "metadata": {},
   "outputs": [
    {
     "name": "stdout",
     "output_type": "stream",
     "text": [
      "ACT (state, 2017-rate, 2018-rate): [('Colorado', 1.0, 0.3), ('Minnesota', 1.0, 0.99)]\n"
     ]
    }
   ],
   "source": [
    "state_changed_rate_act = []\n",
    "for state in full_participation_act_2017:\n",
    "    if not state in full_participation_act_2018:\n",
    "        state_changed_rate_act.append(state)\n",
    "\n",
    "pr_act_2017_2018=[]\n",
    "for state in state_changed_rate_act:\n",
    "    pr_act_2017_2018.append((state, df_combined_2017[df_combined_2017['state']==state]['act_participation'].values[0],\n",
    "                             df_final[df_final['state']==state]['act_participation'].values[0]))\n",
    "\n",
    "print('ACT (state, 2017-rate, 2018-rate):',pr_act_2017_2018)"
   ]
  },
  {
   "cell_type": "markdown",
   "metadata": {},
   "source": [
    "The above states had 100% participation in 2017 ACT but this changed in the 2018 ACT"
   ]
  },
  {
   "cell_type": "markdown",
   "metadata": {},
   "source": [
    "### Do any states shown have >50% participation on *both* tests either year?"
   ]
  },
  {
   "cell_type": "code",
   "execution_count": 64,
   "metadata": {},
   "outputs": [
    {
     "data": {
      "text/html": [
       "<div>\n",
       "<style scoped>\n",
       "    .dataframe tbody tr th:only-of-type {\n",
       "        vertical-align: middle;\n",
       "    }\n",
       "\n",
       "    .dataframe tbody tr th {\n",
       "        vertical-align: top;\n",
       "    }\n",
       "\n",
       "    .dataframe thead th {\n",
       "        text-align: right;\n",
       "    }\n",
       "</style>\n",
       "<table border=\"1\" class=\"dataframe\">\n",
       "  <thead>\n",
       "    <tr style=\"text-align: right;\">\n",
       "      <th></th>\n",
       "      <th>state</th>\n",
       "      <th>sat_participation</th>\n",
       "      <th>act_participation</th>\n",
       "    </tr>\n",
       "  </thead>\n",
       "  <tbody>\n",
       "    <tr>\n",
       "      <th>9</th>\n",
       "      <td>Florida</td>\n",
       "      <td>0.83</td>\n",
       "      <td>0.73</td>\n",
       "    </tr>\n",
       "    <tr>\n",
       "      <th>10</th>\n",
       "      <td>Georgia</td>\n",
       "      <td>0.61</td>\n",
       "      <td>0.55</td>\n",
       "    </tr>\n",
       "    <tr>\n",
       "      <th>11</th>\n",
       "      <td>Hawaii</td>\n",
       "      <td>0.55</td>\n",
       "      <td>0.90</td>\n",
       "    </tr>\n",
       "  </tbody>\n",
       "</table>\n",
       "</div>"
      ],
      "text/plain": [
       "      state  sat_participation  act_participation\n",
       "9   Florida               0.83               0.73\n",
       "10  Georgia               0.61               0.55\n",
       "11   Hawaii               0.55               0.90"
      ]
     },
     "execution_count": 64,
     "metadata": {},
     "output_type": "execute_result"
    }
   ],
   "source": [
    "df_combined_2017[(df_combined_2017['act_participation']>0.5) & (df_combined_2017['sat_participation']>0.5)][['state','sat_participation','act_participation']]"
   ]
  },
  {
   "cell_type": "code",
   "execution_count": 65,
   "metadata": {},
   "outputs": [
    {
     "data": {
      "text/html": [
       "<div>\n",
       "<style scoped>\n",
       "    .dataframe tbody tr th:only-of-type {\n",
       "        vertical-align: middle;\n",
       "    }\n",
       "\n",
       "    .dataframe tbody tr th {\n",
       "        vertical-align: top;\n",
       "    }\n",
       "\n",
       "    .dataframe thead th {\n",
       "        text-align: right;\n",
       "    }\n",
       "</style>\n",
       "<table border=\"1\" class=\"dataframe\">\n",
       "  <thead>\n",
       "    <tr style=\"text-align: right;\">\n",
       "      <th></th>\n",
       "      <th>state</th>\n",
       "      <th>sat_participation</th>\n",
       "      <th>act_participation</th>\n",
       "    </tr>\n",
       "  </thead>\n",
       "  <tbody>\n",
       "    <tr>\n",
       "      <th>9</th>\n",
       "      <td>Florida</td>\n",
       "      <td>0.56</td>\n",
       "      <td>0.66</td>\n",
       "    </tr>\n",
       "    <tr>\n",
       "      <th>10</th>\n",
       "      <td>Georgia</td>\n",
       "      <td>0.70</td>\n",
       "      <td>0.53</td>\n",
       "    </tr>\n",
       "    <tr>\n",
       "      <th>11</th>\n",
       "      <td>Hawaii</td>\n",
       "      <td>0.56</td>\n",
       "      <td>0.89</td>\n",
       "    </tr>\n",
       "    <tr>\n",
       "      <th>33</th>\n",
       "      <td>North Carolina</td>\n",
       "      <td>0.52</td>\n",
       "      <td>1.00</td>\n",
       "    </tr>\n",
       "    <tr>\n",
       "      <th>40</th>\n",
       "      <td>South Carolina</td>\n",
       "      <td>0.55</td>\n",
       "      <td>1.00</td>\n",
       "    </tr>\n",
       "  </tbody>\n",
       "</table>\n",
       "</div>"
      ],
      "text/plain": [
       "             state  sat_participation  act_participation\n",
       "9          Florida               0.56               0.66\n",
       "10         Georgia               0.70               0.53\n",
       "11          Hawaii               0.56               0.89\n",
       "33  North Carolina               0.52               1.00\n",
       "40  South Carolina               0.55               1.00"
      ]
     },
     "execution_count": 65,
     "metadata": {},
     "output_type": "execute_result"
    }
   ],
   "source": [
    "df_final[(df_final['act_participation']>0.5) & (df_final['sat_participation']>0.5)][['state','sat_participation','act_participation']]"
   ]
  },
  {
   "cell_type": "markdown",
   "metadata": {},
   "source": [
    "Florida, Georgia and Hawaii achieved >50% participation rates on both tests, in both 2017 and 2018.\n",
    "\n",
    "North Carolina and South Carolina did not acieve >50% participation rates on either test in 2017. However, these 2 states achieved >50% participation rate for both test in 2018.\n"
   ]
  },
  {
   "cell_type": "markdown",
   "metadata": {},
   "source": [
    "### Based on what you've just observed, have you identified any states that you're especially interested in? **Make a note of these and state *why* you think they're interesting**."
   ]
  },
  {
   "cell_type": "markdown",
   "metadata": {},
   "source": [
    "North Carolina and South Carolina are states of interest because in 2018 they were able to achieve 1.0 participation rate for the ACT, and similultaneously achieve > 0.5 participation rate for the SAT. This suggests that a siginificant number of students took both tests."
   ]
  },
  {
   "cell_type": "markdown",
   "metadata": {},
   "source": [
    "## Visualize the data\n",
    "\n",
    "There's not a magic bullet recommendation for the right number of plots to understand a given dataset, but visualizing your data is *always* a good idea. Not only does it allow you to quickly convey your findings (even if you have a non-technical audience), it will often reveal trends in your data that escaped you when you were looking only at numbers.\n",
    "\n",
    "Some recommendations on plotting:\n",
    "- Plots have titles\n",
    "- Plots have axis labels\n",
    "- Plots have appropriate tick labels\n",
    "- All text is legible in a plot\n",
    "- Plots demonstrate meaningful and valid relationships\n",
    "- Plots are interpreted to aid understanding\n",
    "\n",
    "There is such a thing as too many plots, and there are a *lot* of bad plots. You might make some! (But hopefully not with the guided prompts below)."
   ]
  },
  {
   "cell_type": "markdown",
   "metadata": {},
   "source": [
    "#### Use Seaborn's heatmap with pandas `.corr()` to visualize correlations between all numeric features\n",
    "\n",
    "Heatmaps are generally not appropriate for presentations, and should often be excluded from reports as they can be visually overwhelming. **However**, they can be extremely useful in identify relationships of potential interest (as well as identifying potential collinearity before modeling).\n",
    "\n",
    "*example*:\n",
    "```python\n",
    "sns.heatmap(df.corr())\n",
    "```\n",
    "\n",
    "Please take time to format your output, adding a title. Look through some of the additional arguments and options. (Axis labels aren't really necessary, as long as the title is informative)."
   ]
  },
  {
   "cell_type": "code",
   "execution_count": 66,
   "metadata": {},
   "outputs": [
    {
     "data": {
      "image/png": "[encoded data removed]",
      "text/plain": [
       "<Figure size 720x648 with 2 Axes>"
      ]
     },
     "metadata": {
      "needs_background": "light"
     },
     "output_type": "display_data"
    }
   ],
   "source": [
    "fig_2017 = plt.figure(figsize=(10,9))\n",
    "ax_2017 = plt.axes()\n",
    "ax_2017.set_title('\\nCorrelation Between 2017 SAT and ACT Component Scores',loc='center');\n",
    "xlabels = ['ACT Participation','ACT English','ACT Math','ACT Reading',\n",
    "           'ACT Science','ACT COMPOSITE','SAT Participation','SAT EBRW','SAT Math','SAT TOTAL']\n",
    "ylabels = xlabels\n",
    "mask = np.zeros_like(df_combined_2017.corr())\n",
    "mask[np.triu_indices_from(mask)] = True\n",
    "sns.heatmap(df_combined_2017.corr(),linewidths=.1,square=True,ax=ax_2017,\n",
    "           xticklabels=xlabels,yticklabels=ylabels,mask=mask);\n"
   ]
  },
  {
   "cell_type": "code",
   "execution_count": 67,
   "metadata": {},
   "outputs": [
    {
     "data": {
      "image/png": "[encoded data removed]",
      "text/plain": [
       "<Figure size 720x648 with 2 Axes>"
      ]
     },
     "metadata": {
      "needs_background": "light"
     },
     "output_type": "display_data"
    }
   ],
   "source": [
    "fig_2018 = plt.figure(figsize=(10,9))\n",
    "ax_2018 = plt.axes()\n",
    "ax_2018.set_title('\\nCorrelation Between 2018 SAT and ACT Component Scores',loc='center');\n",
    "mask = np.zeros_like(df_final.corr())\n",
    "mask[np.triu_indices_from(mask)] = True\n",
    "sns.heatmap(df_final.corr(),linewidths=.1,square=True,ax=ax_2018,\n",
    "           xticklabels=xlabels,yticklabels=ylabels,mask=mask);"
   ]
  },
  {
   "cell_type": "markdown",
   "metadata": {},
   "source": [
    "#### Define a custom function to subplot histograms\n",
    "\n",
    "We have data for two tests for two years. We only have composite (and not subtest scores) for the 2018 ACT. We should write a function that will take the names of 2+ columns and subplot histograms. While you can use pandas plotting or Seaborn here, matplotlib gives you greater control over all aspects of your plots.\n",
    "\n",
    "[Helpful Link for Plotting Multiple Figures](https://matplotlib.org/users/pyplot_tutorial.html#working-with-multiple-figures-and-axes)\n",
    "\n",
    "Here's some starter code:"
   ]
  },
  {
   "cell_type": "code",
   "execution_count": 68,
   "metadata": {},
   "outputs": [],
   "source": [
    "def subplot_histograms(dataframe, list_of_columns, list_of_titles, list_of_xlabels):\n",
    "    nrows = int(np.ceil(len(list_of_columns)/2)) # 2 subplots per row\n",
    "    fig, ax = plt.subplots(nrows=nrows, ncols=2, figsize=(10,6),sharey=True)\n",
    "    ax = ax.ravel() # Ravel turns a matrix into a vector, which is easier to iterate\n",
    "    for i, column in enumerate(list_of_columns): # Gives us an index value to get into all our lists\n",
    "        ax[i].hist(dataframe[column],align='mid') # feel free to add more settings\n",
    "        ax[i].set_title(list_of_titles[i])\n",
    "        ax[i].set_xlabel(list_of_xlabels[i])\n",
    "        ax[i].set_yticks(np.arange(0,ax[i].get_ybound()[1]+1,1)) # set y ticks according to max y value\n"
   ]
  },
  {
   "cell_type": "markdown",
   "metadata": {},
   "source": [
    "#### Plot and interpret histograms \n",
    "For each of the following:\n",
    "- Participation rates for SAT & ACT\n",
    "- Math scores for SAT & ACT\n",
    "- Reading/verbal scores for SAT & ACT"
   ]
  },
  {
   "cell_type": "code",
   "execution_count": 69,
   "metadata": {},
   "outputs": [
    {
     "data": {
      "image/png": "[encoded data removed]",
      "text/plain": [
       "<Figure size 720x432 with 2 Axes>"
      ]
     },
     "metadata": {
      "needs_background": "light"
     },
     "output_type": "display_data"
    }
   ],
   "source": [
    "# Participation rates for SAT & ACT (2017)\n",
    "subplot_histograms(df_combined_2017,['sat_participation','act_participation'],\n",
    "                   ['2017 SAT Participation','2017 ACT Participation'],\n",
    "                   ['State-level Rate','State-level Rate'])"
   ]
  },
  {
   "cell_type": "code",
   "execution_count": 70,
   "metadata": {},
   "outputs": [
    {
     "data": {
      "image/png": "[encoded data removed]",
      "text/plain": [
       "<Figure size 720x432 with 2 Axes>"
      ]
     },
     "metadata": {
      "needs_background": "light"
     },
     "output_type": "display_data"
    }
   ],
   "source": [
    "# Participation rates for SAT & ACT (2018)\n",
    "subplot_histograms(df_final,['sat_participation','act_participation'],\n",
    "                   ['2018 SAT Participation','2018 ACT Participation'],\n",
    "                   ['State-level Rate','State-level Rate'])"
   ]
  },
  {
   "cell_type": "code",
   "execution_count": 71,
   "metadata": {},
   "outputs": [
    {
     "data": {
      "image/png": "[encoded data removed]",
      "text/plain": [
       "<Figure size 720x432 with 2 Axes>"
      ]
     },
     "metadata": {
      "needs_background": "light"
     },
     "output_type": "display_data"
    }
   ],
   "source": [
    "# Math scores for SAT & ACT (2017)\n",
    "subplot_histograms(df_combined_2017,['sat_math','act_math'],\n",
    "                   ['2017 SAT Mean Math Scores','2017 ACT Mean Math Scores'],\n",
    "                   ['Mean Scores','Mean Scores'])"
   ]
  },
  {
   "cell_type": "code",
   "execution_count": 72,
   "metadata": {},
   "outputs": [
    {
     "data": {
      "image/png": "[encoded data removed]",
      "text/plain": [
       "<Figure size 720x432 with 2 Axes>"
      ]
     },
     "metadata": {
      "needs_background": "light"
     },
     "output_type": "display_data"
    }
   ],
   "source": [
    "# Math scores for SAT & ACT (2018)\n",
    "subplot_histograms(df_final,['sat_math','act_math'],\n",
    "                   ['2018 SAT Mean Math Scores','2018 ACT Mean Math Scores'],\n",
    "                   ['Mean Scores','Mean Scores'])"
   ]
  },
  {
   "cell_type": "code",
   "execution_count": 73,
   "metadata": {},
   "outputs": [
    {
     "data": {
      "image/png": "[encoded data removed]",
      "text/plain": [
       "<Figure size 720x432 with 2 Axes>"
      ]
     },
     "metadata": {
      "needs_background": "light"
     },
     "output_type": "display_data"
    }
   ],
   "source": [
    "# Reading/verbal scores for SAT & ACT (2017)\n",
    "subplot_histograms(df_combined_2017,['sat_ebrw','act_reading'],\n",
    "                   ['2017 SAT Mean EBRW Scores','2017 ACT Mean Reading Scores'],\n",
    "                   ['Mean Scores','Mean Scores'])"
   ]
  },
  {
   "cell_type": "code",
   "execution_count": 74,
   "metadata": {},
   "outputs": [
    {
     "data": {
      "image/png": "[encoded data removed]",
      "text/plain": [
       "<Figure size 720x432 with 2 Axes>"
      ]
     },
     "metadata": {
      "needs_background": "light"
     },
     "output_type": "display_data"
    }
   ],
   "source": [
    "# Reading/verbal scores for SAT & ACT (2018)\n",
    "subplot_histograms(df_final,['sat_ebrw','act_reading'],\n",
    "                   ['2018 SAT Mean EBRW Scores','2018 ACT Mean Reading Scores'],\n",
    "                   ['Mean Scores','Mean Scores'])"
   ]
  },
  {
   "cell_type": "markdown",
   "metadata": {},
   "source": [
    "#### Plot and interpret scatter plots\n",
    "\n",
    "For each of the following:\n",
    "- SAT vs. ACT math scores for 2017\n",
    "- SAT vs. ACT verbal/reading scores for 2017\n",
    "- SAT vs. ACT total/composite scores for 2017\n",
    "- Total scores for SAT 2017 vs. 2018\n",
    "- Composite scores for ACT 2017 vs. 2018\n",
    "\n",
    "Plot the two variables against each other using matplotlib or Seaborn\n",
    "\n",
    "Your plots should show:\n",
    "- Two clearly labeled axes\n",
    "- A proper title\n",
    "- Using colors and symbols that are clear and unmistakable\n",
    "\n",
    "**Feel free to write a custom function, and subplot if you'd like.** Functions save both time and space.\n"
   ]
  },
  {
   "cell_type": "code",
   "execution_count": 75,
   "metadata": {},
   "outputs": [],
   "source": [
    "# scatterplot - use matplotlib\n",
    "def subplot_scatterplots(dataframe, list_of_column_pairs, list_of_titles, list_of_label_pairs):\n",
    "    nrows = int(np.ceil(len(list_of_column_pairs)/2)) # 2 subplots per row\n",
    "    fig, ax = plt.subplots(nrows=nrows, ncols=2, figsize=(12,12),sharey=False)\n",
    "    ax = ax.ravel() # Ravel turns a matrix into a vector, which is easier to iterate\n",
    "    for i, column in enumerate(list_of_column_pairs): # Gives us an index value to get into all our lists\n",
    "        ax[i].scatter(dataframe[list_of_column_pairs[i][0]],dataframe[list_of_column_pairs[i][1]])\n",
    "        ax[i].set_title(list_of_titles[i])     \n",
    "        ax[i].set_xlabel(list_of_label_pairs[i][0])\n",
    "        ax[i].set_ylabel(list_of_label_pairs[i][1])\n",
    "\n",
    "# scatterplot - use matplotlib\n",
    "def subplot_scatterplots_dflist(list_of_dataframes, list_of_column_pairs, list_of_titles, list_of_label_pairs):\n",
    "    nrows = int(np.ceil(len(list_of_dataframes)/2)) # 2 subplots per row\n",
    "    fig, ax = plt.subplots(nrows=nrows, ncols=2, figsize=(12,5),sharey=False)\n",
    "    ax = ax.ravel() # Ravel turns a matrix into a vector, which is easier to iterate\n",
    "    for i, column in enumerate(list_of_column_pairs): # Gives us an index value to get into all our lists\n",
    "        ax[i].scatter(list_of_dataframes[i][list_of_column_pairs[i][0]],list_of_dataframes[i][list_of_column_pairs[i][1]])\n",
    "        ax[i].set_title(list_of_titles[i])     \n",
    "        ax[i].set_xlabel(list_of_label_pairs[i][0])\n",
    "        ax[i].set_ylabel(list_of_label_pairs[i][1])"
   ]
  },
  {
   "cell_type": "code",
   "execution_count": 76,
   "metadata": {},
   "outputs": [
    {
     "data": {
      "image/png": "[encoded data removed]",
      "text/plain": [
       "<Figure size 864x864 with 4 Axes>"
      ]
     },
     "metadata": {
      "needs_background": "light"
     },
     "output_type": "display_data"
    },
    {
     "data": {
      "image/png": "[encoded data removed]",
      "text/plain": [
       "<Figure size 864x360 with 2 Axes>"
      ]
     },
     "metadata": {
      "needs_background": "light"
     },
     "output_type": "display_data"
    }
   ],
   "source": [
    "# Populate lists to be passed as arguments to subplot_scatterplots()\n",
    "sat_act_2017_col_pairs = [('sat_math','act_math'),('sat_ebrw','act_reading'),('sat_total','act_composite')]\n",
    "sat_act_2017_titles = ['2017 SAT vs. ACT Math','2017 SAT vs. ACT Verbal/Reading','2017 SAT vs. ACT Total/Composite']\n",
    "sat_act_2017_label_pairs = [('SAT Mean Math Scores','ACT Mean Math Scores'),\n",
    "                            ('SAT Mean EBRW Scores','ACT Mean Reading Scores'),\n",
    "                            ('SAT Mean Total','ACT Mean Composite')]\n",
    "\n",
    "# Total scores for SAT 2017 vs. 2018 => create a new dataframe\n",
    "df_sat_total_2017_2018 = pd.concat([df_combined_2017['sat_total'], df_final['sat_total']],axis=1)\n",
    "df_sat_total_2017_2018.columns = ['sat_total_2017','sat_total_2018']\n",
    "\n",
    "# Composite scores for ACT 2017 vs. 2018 => create a new dataframe\n",
    "df_act_comp_2017_2018 = pd.concat([df_combined_2017['act_composite'], df_final['act_composite']],axis=1)\n",
    "df_act_comp_2017_2018.columns = ['act_composite_2017','act_composite_2018']\n",
    "\n",
    "# Populate lists to be passed as arguments to subplot_scatterplots_dflist()\n",
    "list_df = [df_sat_total_2017_2018, df_act_comp_2017_2018]\n",
    "list_col_pair = [('sat_total_2017','sat_total_2018'), ('act_composite_2017','act_composite_2018')]\n",
    "list_title = ['2017 vs. 2018 SAT Mean Total Score', '2017 vs. 2018 ACT Mean Composite Score']\n",
    "list_label_pair = [('2017 Mean Total Score','2018 Mean Total Score'), \n",
    "                   ('2017 Mean Composite Score','2018 Mean Composite Score')]\n",
    "\n",
    "# Plot scatterplots!\n",
    "subplot_scatterplots(df_combined_2017, sat_act_2017_col_pairs, sat_act_2017_titles, sat_act_2017_label_pairs)\n",
    "subplot_scatterplots_dflist(list_df, list_col_pair, list_title, list_label_pair)"
   ]
  },
  {
   "cell_type": "markdown",
   "metadata": {},
   "source": [
    "#### Plot and interpret boxplots\n",
    "\n",
    "For each numeric variable in the dataframe create a boxplot using Seaborn. Boxplots demonstrate central tendency and spread in variables. In a certain sense, these are somewhat redundant with histograms, but you may be better able to identify clear outliers or differences in IQR, etc.\n",
    "\n",
    "Multiple values can be plotted to a single boxplot as long as they are of the same relative scale (meaning they have similar min/max values).\n",
    "\n",
    "Each boxplot should:\n",
    "- Only include variables of a similar scale\n",
    "- Have clear labels for each variable\n",
    "- Have appropriate titles and labels"
   ]
  },
  {
   "cell_type": "code",
   "execution_count": 77,
   "metadata": {},
   "outputs": [
    {
     "data": {
      "image/png": "[encoded data removed]",
      "text/plain": [
       "<Figure size 720x576 with 1 Axes>"
      ]
     },
     "metadata": {},
     "output_type": "display_data"
    },
    {
     "data": {
      "image/png": "[encoded data removed]",
      "text/plain": [
       "<Figure size 432x432 with 1 Axes>"
      ]
     },
     "metadata": {},
     "output_type": "display_data"
    },
    {
     "data": {
      "image/png": "[encoded data removed]",
      "text/plain": [
       "<Figure size 432x432 with 1 Axes>"
      ]
     },
     "metadata": {},
     "output_type": "display_data"
    }
   ],
   "source": [
    "# prepare a consolidated dataframe and name the columns\n",
    "df_sat_act_stats_2years = pd.concat([df_combined_2017['state'],\n",
    "                                     df_combined_2017['sat_participation'], df_final['sat_participation'],\n",
    "                                    df_combined_2017['act_participation'], df_final['act_participation'],\n",
    "                                    df_combined_2017['sat_total'], df_final['sat_total'],\n",
    "                                    df_combined_2017['act_composite'], df_final['act_composite']], axis=1)\n",
    "\n",
    "df_sat_act_stats_2years.columns = ['state','sat_part_17', 'sat_part_18', 'act_part_17', 'act_part_18',\n",
    "                                  'sat_tot_17', 'sat_tot_18', 'act_comp_17', 'act_comp_18']\n",
    "\n",
    "\n",
    "# plot boxplots and swarmplots for SAT/ACT Participation 2017 & 2018\n",
    "sns.set(context='paper',style='whitegrid',font_scale=1)\n",
    "plt.subplots(figsize=(10,8))\n",
    "plt.title('Participation Rates for SAT (2017/2018) and ACT (2017/2018)')\n",
    "sns.boxplot(data=df_sat_act_stats_2years[['sat_part_17','sat_part_18','act_part_17','act_part_18']],\n",
    "                   palette={'sat_part_17':'b','sat_part_18':'b','act_part_17':'r','act_part_18':'r'});\n",
    "sns.swarmplot(data=df_sat_act_stats_2years[['sat_part_17','sat_part_18','act_part_17','act_part_18']],color=\".25\");\n",
    "\n",
    "# plot boxplots and swarmplots for SAT Mean Total scores 2017 & 2018\n",
    "plt.subplots(figsize=(6,6))\n",
    "plt.title('Mean Totals for SAT (2017/2018)')\n",
    "sns.boxplot(data=df_sat_act_stats_2years[['sat_tot_17','sat_tot_18']],\n",
    "                   palette={'sat_tot_17':'b','sat_tot_18':'b'});\n",
    "sns.swarmplot(data=df_sat_act_stats_2years[['sat_tot_17','sat_tot_18']],color=\".25\");\n",
    "\n",
    "# plot boxplots and swarmplots for ACT Mean Composite scores 2017 & 2018\n",
    "plt.subplots(figsize=(6,6))\n",
    "plt.title('Mean Composite for ACT (2017/2018)')\n",
    "sns.boxplot(data=df_sat_act_stats_2years[['act_comp_17','act_comp_18']],\n",
    "                   palette={'act_comp_17':'r','act_comp_18':'r'});\n",
    "sns.swarmplot(data=df_sat_act_stats_2years[['act_comp_17','act_comp_18']],color=\".25\");"
   ]
  },
  {
   "cell_type": "markdown",
   "metadata": {},
   "source": [
    "#### Feel free to do additional plots below\n",
    "*(do research and choose your own chart types & variables)*\n",
    "\n",
    "Are there any additional trends or relationships you haven't explored? Was there something interesting you saw that you'd like to dive further into? It's likely that there are a few more plots you might want to generate to support your narrative and recommendations that you are building toward. **As always, make sure you're interpreting your plots as you go**."
   ]
  },
  {
   "cell_type": "code",
   "execution_count": 78,
   "metadata": {},
   "outputs": [],
   "source": [
    "# consider using plots from \"Outside Research\" section to put into here....."
   ]
  },
  {
   "cell_type": "markdown",
   "metadata": {},
   "source": [
    "#### (Optional): Using Tableau, create a choropleth map for each variable using a map of the US. \n",
    "\n",
    "Save this plot as an image file in an images directory, provide a relative path, and insert the image into notebook in markdown."
   ]
  },
  {
   "cell_type": "code",
   "execution_count": null,
   "metadata": {},
   "outputs": [],
   "source": []
  },
  {
   "cell_type": "markdown",
   "metadata": {},
   "source": [
    "## Descriptive and Inferential Statistics"
   ]
  },
  {
   "cell_type": "markdown",
   "metadata": {},
   "source": [
    "#### Summarizing Distributions\n",
    "\n",
    "Above, we used pandas `describe` to provide quick summary statistics of our numeric columns. We also demonstrated many visual relationships.\n",
    "\n",
    "As data scientists, having a complete understanding of data is imperative prior to modeling.\n",
    "\n",
    "While we will continue to build our analytic tools, we know that measures of *central tendency*, *spread*, and *shape/skewness* provide a quick summary of distributions.\n",
    "\n",
    "For each variable in your data, summarize the underlying distributions (in words & statistics)\n",
    " - Be thorough in your verbal description of these distributions.\n",
    " - Be sure to back up these summaries with statistics."
   ]
  },
  {
   "cell_type": "markdown",
   "metadata": {},
   "source": [
    "### ACT Participation rates\n",
    "##### The following apply to 2017 & 2018 respectively:\n",
    "- The means are about 0.65 and 0.62.\n",
    "- The medians are 0.69 and 0.66.\n",
    "- The standard deviations are about 0.32 and 0.34.\n",
    "- The ranges are between 0.07 and 1.0.\n",
    "- The largest proportion (~18-19nos. or 37%) of states have rates close to 1.0.\n",
    "- The 2nd largest proportion of states had rates around 0.3.\n",
    "- The distributions are left-skewed."
   ]
  },
  {
   "cell_type": "code",
   "execution_count": 79,
   "metadata": {
    "scrolled": true
   },
   "outputs": [
    {
     "name": "stdout",
     "output_type": "stream",
     "text": [
      "Median for 2017,2018:\t 0.69 0.66\n",
      "Skewness for 2017,2018: -0.19211796242279894 -0.026184169649572864\n"
     ]
    },
    {
     "data": {
      "image/png": "[encoded data removed]",
      "text/plain": [
       "<Figure size 432x288 with 1 Axes>"
      ]
     },
     "metadata": {},
     "output_type": "display_data"
    }
   ],
   "source": [
    "# 2017,2018 ACT Participation\n",
    "print('Median for 2017,2018:\\t',df_combined_2017['act_participation'].median(),df_final['act_participation'].median())\n",
    "print('Skewness for 2017,2018:',stats.skew(df_combined_2017['act_participation']),stats.skew(df_final['act_participation']))\n",
    "xbins=20\n",
    "plt.hist(df_combined_2017['act_participation'],bins=xbins);\n",
    "plt.hist(df_final['act_participation'],bins=xbins,alpha=0.4);\n",
    "plt.show()"
   ]
  },
  {
   "cell_type": "markdown",
   "metadata": {},
   "source": [
    "### ACT English mean scores\n",
    "##### The following apply to 2017 & 2018 respectively:\n",
    "- The means are about 20.93 and 21.50.\n",
    "- The medians are 20.7 and 21.30.\n",
    "- The standard deviations are about 2.35 & 2.11.\n",
    "- The ranges are between 16.30 and 25.60.\n",
    "- The distributions are right-skewed."
   ]
  },
  {
   "cell_type": "code",
   "execution_count": 80,
   "metadata": {},
   "outputs": [
    {
     "name": "stdout",
     "output_type": "stream",
     "text": [
      "Median for 2017,2018:\t 20.7 21.3\n",
      "Skewness for 2017,2018: 0.34220217359811805 0.2635066087178296\n"
     ]
    },
    {
     "data": {
      "image/png": "[encoded data removed]",
      "text/plain": [
       "<Figure size 432x288 with 1 Axes>"
      ]
     },
     "metadata": {},
     "output_type": "display_data"
    }
   ],
   "source": [
    "# 2017,2018 ACT English\n",
    "print('Median for 2017,2018:\\t',df_combined_2017['act_english'].median(),df_final['act_english'].median())\n",
    "print('Skewness for 2017,2018:',stats.skew(df_combined_2017['act_english']),stats.skew(df_final['act_english']))\n",
    "xbins=20\n",
    "plt.hist(df_combined_2017['act_english'],bins=xbins);\n",
    "plt.hist(df_final['act_english'],bins=xbins,alpha=0.4);"
   ]
  },
  {
   "cell_type": "markdown",
   "metadata": {},
   "source": [
    "### ACT Math mean scores\n",
    "##### The following apply to 2017 & 2018 respectively:\n",
    "- The means are about 21.18 and 21.50.\n",
    "- The medians are 20.9 and 20.2.\n",
    "- The standard deviations are about 1.98 & 2.45.\n",
    "- The ranges are between 16.60 and 26.00.\n",
    "- The distributions are right-skewed."
   ]
  },
  {
   "cell_type": "code",
   "execution_count": 81,
   "metadata": {},
   "outputs": [
    {
     "name": "stdout",
     "output_type": "stream",
     "text": [
      "Median for 2017,2018:\t 20.9 20.2\n",
      "Skewness for 2017,2018: 0.3228174361152988 0.3604894183850984\n"
     ]
    },
    {
     "data": {
      "image/png": "[encoded data removed]",
      "text/plain": [
       "<Figure size 432x288 with 1 Axes>"
      ]
     },
     "metadata": {},
     "output_type": "display_data"
    }
   ],
   "source": [
    "# 2017,2018 ACT Math\n",
    "print('Median for 2017,2018:\\t',df_combined_2017['act_math'].median(),df_final['act_math'].median())\n",
    "print('Skewness for 2017,2018:',stats.skew(df_combined_2017['act_math']),stats.skew(df_final['act_math']))\n",
    "xbins=20\n",
    "plt.hist(df_combined_2017['act_math'],bins=xbins);\n",
    "plt.hist(df_final['act_math'],bins=xbins,alpha=0.4);"
   ]
  },
  {
   "cell_type": "markdown",
   "metadata": {},
   "source": [
    "### ACT Reading mean scores\n",
    "##### The following apply to 2017 & 2018 respectively:\n",
    "- The means are about 22.01 and 21.13.\n",
    "- The medians are 21.8 and 20.7.\n",
    "- The standard deviations are about 2.07 & 2.04.\n",
    "- The ranges are between 17.80 and 26.00.\n",
    "- The distributions are right-skewed."
   ]
  },
  {
   "cell_type": "code",
   "execution_count": 82,
   "metadata": {},
   "outputs": [
    {
     "name": "stdout",
     "output_type": "stream",
     "text": [
      "Median for 2017,2018:\t 21.8 20.7\n",
      "Skewness for 2017,2018: 0.2613779187300745 0.2615541273504424\n"
     ]
    },
    {
     "data": {
      "image/png": "[encoded data removed]",
      "text/plain": [
       "<Figure size 432x288 with 1 Axes>"
      ]
     },
     "metadata": {},
     "output_type": "display_data"
    }
   ],
   "source": [
    "# 2017,2018 ACT Reading\n",
    "print('Median for 2017,2018:\\t',df_combined_2017['act_reading'].median(),df_final['act_reading'].median())\n",
    "print('Skewness for 2017,2018:',stats.skew(df_combined_2017['act_reading']),stats.skew(df_final['act_reading']))\n",
    "xbins=20\n",
    "plt.hist(df_combined_2017['act_reading'],bins=xbins);\n",
    "plt.hist(df_final['act_reading'],bins=xbins,alpha=0.4);"
   ]
  },
  {
   "cell_type": "markdown",
   "metadata": {},
   "source": [
    "### ACT Science mean scores\n",
    "##### The following apply to 2017 & 2018 respectively:\n",
    "- The means are about 21.45 and 22.02.\n",
    "- The medians are 21.3 and 21.6.\n",
    "- The standard deviations are about 3.18 & 2.17.\n",
    "- The ranges are between 18.00 and 26.10.\n",
    "- The distributions are right-skewed."
   ]
  },
  {
   "cell_type": "code",
   "execution_count": 83,
   "metadata": {},
   "outputs": [
    {
     "name": "stdout",
     "output_type": "stream",
     "text": [
      "Median for 2017,2018:\t 21.3 21.6\n",
      "Skewness for 2017,2018: 0.21233390930923077 0.1953899076147242\n"
     ]
    },
    {
     "data": {
      "image/png": "[encoded data removed]",
      "text/plain": [
       "<Figure size 432x288 with 1 Axes>"
      ]
     },
     "metadata": {},
     "output_type": "display_data"
    }
   ],
   "source": [
    "# 2017,2018 ACT Science\n",
    "print('Median for 2017,2018:\\t',df_combined_2017['act_science'].median(),df_final['act_science'].median())\n",
    "print('Skewness for 2017,2018:',stats.skew(df_combined_2017['act_science']),stats.skew(df_final['act_science']))\n",
    "xbins=30\n",
    "plt.hist(df_combined_2017['act_science'],bins=xbins);\n",
    "plt.hist(df_final['act_science'],bins=xbins,alpha=0.4);"
   ]
  },
  {
   "cell_type": "markdown",
   "metadata": {},
   "source": [
    "### ACT Composite mean scores\n",
    "##### The following apply to 2017 & 2018 respectively:\n",
    "- The means are about 21.52 and 21.34.\n",
    "- The medians are 21.4 and 21.1.\n",
    "- The standard deviations are about 2.02 & 1.87.\n",
    "- The ranges are between 17.80 and 25.50.\n",
    "- The distributions are right-skewed."
   ]
  },
  {
   "cell_type": "code",
   "execution_count": 84,
   "metadata": {},
   "outputs": [
    {
     "name": "stdout",
     "output_type": "stream",
     "text": [
      "Median for 2017,2018:\t 21.4 21.1\n",
      "Skewness for 2017,2018: 0.3103255637098951 0.17179423157849594\n"
     ]
    },
    {
     "data": {
      "image/png": "[encoded data removed]",
      "text/plain": [
       "<Figure size 432x288 with 1 Axes>"
      ]
     },
     "metadata": {},
     "output_type": "display_data"
    }
   ],
   "source": [
    "# 2017,2018 ACT Composite\n",
    "print('Median for 2017,2018:\\t',df_combined_2017['act_composite'].median(),df_final['act_composite'].median())\n",
    "print('Skewness for 2017,2018:',stats.skew(df_combined_2017['act_composite']),stats.skew(df_final['act_composite']))\n",
    "xbins=20\n",
    "plt.hist(df_combined_2017['act_composite'],bins=xbins);\n",
    "plt.hist(df_final['act_composite'],bins=xbins,alpha=0.4);"
   ]
  },
  {
   "cell_type": "markdown",
   "metadata": {},
   "source": [
    "### SAT Participation rates\n",
    "##### The following apply to 2017 & 2018 respectively:\n",
    "- The means are about 0.40 and 0.46.\n",
    "- The medians are 0.38 and 0.52.\n",
    "- The standard deviations are about 0.35 and 0.37.\n",
    "- The ranges are between 0.02 and 1.0.\n",
    "- The largest proportion (16nos. or 31%) of states have rates close to 0.1.\n",
    "- The 2nd largest proportion of states (~9nos. or 18%) have rates around 1.0.\n",
    "- The distributions are right-skewed."
   ]
  },
  {
   "cell_type": "code",
   "execution_count": 85,
   "metadata": {},
   "outputs": [
    {
     "name": "stdout",
     "output_type": "stream",
     "text": [
      "Median for 2017,2018:\t 0.38 0.52\n",
      "Skewness for 2017,2018: 0.33617543925343585 0.13218842829757055\n"
     ]
    },
    {
     "data": {
      "image/png": "[encoded data removed]",
      "text/plain": [
       "<Figure size 432x288 with 1 Axes>"
      ]
     },
     "metadata": {},
     "output_type": "display_data"
    }
   ],
   "source": [
    "# 2017,2018 SAT Participation\n",
    "print('Median for 2017,2018:\\t',df_combined_2017['sat_participation'].median(),df_final['sat_participation'].median())\n",
    "print('Skewness for 2017,2018:',stats.skew(df_combined_2017['sat_participation']),stats.skew(df_final['sat_participation']))\n",
    "xbins=20\n",
    "plt.hist(df_combined_2017['sat_participation'],bins=xbins);\n",
    "plt.hist(df_final['sat_participation'],bins=xbins,alpha=0.4);"
   ]
  },
  {
   "cell_type": "markdown",
   "metadata": {},
   "source": [
    "### SAT Evidence Based Reading & Writing mean scores\n",
    "##### The following apply to 2017 & 2018 respectively:\n",
    "- The means are about 569 and 564.\n",
    "- The medians are 559 and 552.\n",
    "- The standard deviations are about 45.67 & 47.50.\n",
    "- The ranges are between 480 and 644.\n",
    "- The distributions are right-skewed."
   ]
  },
  {
   "cell_type": "code",
   "execution_count": 86,
   "metadata": {},
   "outputs": [
    {
     "name": "stdout",
     "output_type": "stream",
     "text": [
      "Median for 2017,2018:\t 559.0 552.0\n",
      "Skewness for 2017,2018: 0.2646065965076702 0.27392797109625916\n"
     ]
    },
    {
     "data": {
      "image/png": "[encoded data removed]",
      "text/plain": [
       "<Figure size 432x288 with 1 Axes>"
      ]
     },
     "metadata": {},
     "output_type": "display_data"
    }
   ],
   "source": [
    "# 2017,2018 SAT Evidence Based Reading & Writing(EBRW)\n",
    "print('Median for 2017,2018:\\t',df_combined_2017['sat_ebrw'].median(),df_final['sat_ebrw'].median())\n",
    "print('Skewness for 2017,2018:',stats.skew(df_combined_2017['sat_ebrw']),stats.skew(df_final['sat_ebrw']))\n",
    "xbins=30\n",
    "plt.hist(df_combined_2017['sat_ebrw'],bins=xbins);\n",
    "plt.hist(df_final['sat_ebrw'],bins=xbins,alpha=0.4);"
   ]
  },
  {
   "cell_type": "markdown",
   "metadata": {},
   "source": [
    "### SAT Math mean scores\n",
    "##### The following apply to 2017 & 2018 respectively:\n",
    "- The means are about 557 and 556.\n",
    "- The medians are 548 and 544.\n",
    "- The standard deviations are about 47.12 & 47.77.\n",
    "- The ranges are between 468 and 655.\n",
    "- The distributions are right-skewed."
   ]
  },
  {
   "cell_type": "code",
   "execution_count": 87,
   "metadata": {},
   "outputs": [
    {
     "name": "stdout",
     "output_type": "stream",
     "text": [
      "Median for 2017,2018:\t 548.0 544.0\n",
      "Skewness for 2017,2018: 0.35421485843432615 0.514677775442769\n"
     ]
    },
    {
     "data": {
      "image/png": "[encoded data removed]",
      "text/plain": [
       "<Figure size 432x288 with 1 Axes>"
      ]
     },
     "metadata": {},
     "output_type": "display_data"
    }
   ],
   "source": [
    "# 2017,2018 SAT Math\n",
    "print('Median for 2017,2018:\\t',df_combined_2017['sat_math'].median(),df_final['sat_math'].median())\n",
    "print('Skewness for 2017,2018:',stats.skew(df_combined_2017['sat_math']),stats.skew(df_final['sat_math']))\n",
    "xbins=30\n",
    "plt.hist(df_combined_2017['sat_math'],bins=xbins);\n",
    "plt.hist(df_final['sat_math'],bins=xbins,alpha=0.4);"
   ]
  },
  {
   "cell_type": "markdown",
   "metadata": {},
   "source": [
    "### SAT Total mean scores\n",
    "##### The following apply to 2017 & 2018 respectively:\n",
    "- The means are about 1126 and 1120.\n",
    "- The medians are 1107 and 1098.\n",
    "- The standard deviations are about 92.49 & 94.16.\n",
    "- The ranges are between 950 and 1298.\n",
    "- The distributions are right-skewed."
   ]
  },
  {
   "cell_type": "code",
   "execution_count": 88,
   "metadata": {},
   "outputs": [
    {
     "name": "stdout",
     "output_type": "stream",
     "text": [
      "Median for 2017,2018:\t 1107.0 1098.0\n",
      "Skewness for 2017,2018: 0.30168334986069095 0.4525994928716571\n"
     ]
    },
    {
     "data": {
      "image/png": "[encoded data removed]",
      "text/plain": [
       "<Figure size 432x288 with 1 Axes>"
      ]
     },
     "metadata": {},
     "output_type": "display_data"
    }
   ],
   "source": [
    "# 2017,2018 SAT Total\n",
    "print('Median for 2017,2018:\\t',df_combined_2017['sat_total'].median(),df_final['sat_total'].median())\n",
    "print('Skewness for 2017,2018:',stats.skew(df_combined_2017['sat_total']),stats.skew(df_final['sat_total']))\n",
    "xbins=30\n",
    "plt.hist(df_combined_2017['sat_total'],bins=xbins);\n",
    "plt.hist(df_final['sat_total'],bins=xbins,alpha=0.4);"
   ]
  },
  {
   "cell_type": "markdown",
   "metadata": {},
   "source": [
    "Answers:"
   ]
  },
  {
   "cell_type": "markdown",
   "metadata": {},
   "source": [
    "#### We generally assuming that data we sample from a population will be normally distributed. Do we observe this trend?"
   ]
  },
  {
   "cell_type": "markdown",
   "metadata": {},
   "source": [
    "Answer: No, we generally do not observe this trend in the 2017 and 2018 data."
   ]
  },
  {
   "cell_type": "markdown",
   "metadata": {},
   "source": [
    "Does This Assumption Hold for:\n",
    "    - Math\n",
    "    - Reading\n",
    "    - Rates\n",
    "Explain your answers for each distribution and how you think this will affect estimates made from these data."
   ]
  },
  {
   "cell_type": "code",
   "execution_count": 89,
   "metadata": {},
   "outputs": [
    {
     "name": "stdout",
     "output_type": "stream",
     "text": [
      "\n",
      "1)2018 ACT Math / Normality Test & Skew -\n",
      "NormaltestResult(statistic=8.998260111683463, pvalue=0.011118664949764285) skew: 0.3604894183850984\n",
      "\n",
      "2)2018 SAT Math / Normality Test & Skew -\n",
      "NormaltestResult(statistic=4.8457529089366815, pvalue=0.08866620599134843) skew: 0.514677775442769\n",
      "\n",
      "3)2018 ACT Reading / Normality Test & Skew -\n",
      "NormaltestResult(statistic=9.493830792428861, pvalue=0.008678423456739134) skew: 0.2615541273504424\n",
      "\n",
      "4)2018 SAT Evidence Based Reading & Writing / Normality Test & Skew -\n",
      "NormaltestResult(statistic=8.010167731290034, pvalue=0.01822276093099164) skew: 0.27392797109625916\n",
      "\n",
      "5)2018 ACT Participation / Normality Test & Skew -\n",
      "NormaltestResult(statistic=136.08991476981527, pvalue=2.8083451770644226e-30) skew: -0.026184169649572864\n",
      "\n",
      "6)2018 SAT Participation / Normality Test & Skew -\n",
      "NormaltestResult(statistic=52.623871321382026, pvalue=3.739999415853542e-12) skew: 0.13218842829757055\n"
     ]
    }
   ],
   "source": [
    "print('\\n1)2018 ACT Math / Normality Test & Skew -')\n",
    "print(stats.normaltest(df_final['act_math']),'skew:', stats.skew(df_final['act_math']))\n",
    "print('\\n2)2018 SAT Math / Normality Test & Skew -')\n",
    "print(stats.normaltest(df_final['sat_math']),'skew:', stats.skew(df_final['sat_math']))\n",
    "print('\\n3)2018 ACT Reading / Normality Test & Skew -')\n",
    "print(stats.normaltest(df_final['act_reading']),'skew:', stats.skew(df_final['act_reading']))\n",
    "print('\\n4)2018 SAT Evidence Based Reading & Writing / Normality Test & Skew -')\n",
    "print(stats.normaltest(df_final['sat_ebrw']),'skew:', stats.skew(df_final['sat_ebrw']))\n",
    "print('\\n5)2018 ACT Participation / Normality Test & Skew -')\n",
    "print(stats.normaltest(df_final['act_participation']),'skew:', stats.skew(df_final['act_participation']))\n",
    "print('\\n6)2018 SAT Participation / Normality Test & Skew -')\n",
    "print(stats.normaltest(df_final['sat_participation']),'skew:', stats.skew(df_final['sat_participation']))"
   ]
  },
  {
   "cell_type": "markdown",
   "metadata": {},
   "source": [
    "#### Answer:\n",
    "\n",
    "The above tests were carried out to determine whether the above datasets followed the normal distribution and the extent for which they were skewed. An alpha value of 0.05 is assumed, against which the above p-values are compared.\n",
    "\n",
    "Also kindly refer to the following:\n",
    "\n",
    "* https://statistics.laerd.com/statistical-guides/measures-central-tendency-mean-mode-median.php\n",
    "* http://www.psychwiki.com/wiki/How_do_I_determine_whether_my_data_are_normal%3F\n",
    "* https://help.gooddata.com/doc/en/reporting-and-dashboards/maql-analytical-query-language/maql-expression-reference/aggregation-functions/statistical-functions/predictive-statistical-use-cases/normality-testing-skewness-and-kurtosis\n",
    "\n",
    "##### 1) 2018 ACT Math:\n",
    "This data can be considered normally distributed (pv < alpha). It is slightly skewed to the right but the mean can still be used as a measure of central tendency.\n",
    "##### 2) 2018 SAT Math:\n",
    "This data cannot be considered normally distributed (pv > alpha). The measures of central tendency are not reliable for estimations that assume a normal sampling distribution means.\n",
    "##### 3) 2018 ACT Reading:\n",
    "This data can be considered normally distributed (pv < alpha). It is slightly skewed to the right but the mean can still be used as a measure of central tendency.\n",
    "##### 4) 2018 SAT Evidence-Based Reading & Writing:\n",
    "This data can be considered normally distributed (pv < alpha). It is slightly skewed to the right but the mean can still be used as a measure of central tendency.\n",
    "##### 5) 2018 ACT Participation:\n",
    "This data cannot be considered normally distributed (pv > alpha). The measures of central tendency are not reliable for estimations that assume a normal sampling distribution means.\n",
    "##### 5) 2018 SAT Participation:\n",
    "This data cannot be considered normally distributed (pv > alpha). The measures of central tendency are not reliable for estimations that assume a normal sampling distribution means."
   ]
  },
  {
   "cell_type": "markdown",
   "metadata": {},
   "source": [
    "#### Estimate Limits of Data\n",
    "\n",
    "Suppose we only seek to understand the relationship between SAT and ACT participation rates in 2017. \n",
    "\n",
    "##### Does it make sense to conduct statistical inference given these data specifically? \n",
    "\n",
    "Why or why not?\n",
    "\n",
    "*(think about granularity, aggregation, the relationships between populations size & rates...consider the actually populations these data describe in answering this question)*"
   ]
  },
  {
   "cell_type": "markdown",
   "metadata": {},
   "source": [
    "Answer:\n",
    "\n",
    "Yes, it makes sense to do so in this partcular case, for the following reasons.\n",
    "   \n",
    "For each state, the rate provided in the data is the actual participation rate rather than a statistic (e.g. mean value). The rate represents the percentage of high school students graduating in 2017 who took the test.\n",
    "\n",
    "The participation rate for every state is also provided in the data. Therefore, the data points provided represent the complete collection of such data for the states.\n",
    "\n",
    "Based on the given data, it is possible to establish that the SAT and ACT participation rates are inversely correlated (refer to the scatter plot below).\n"
   ]
  },
  {
   "cell_type": "code",
   "execution_count": 90,
   "metadata": {},
   "outputs": [
    {
     "data": {
      "image/png": "[encoded data removed]",
      "text/plain": [
       "<Figure size 432x432 with 1 Axes>"
      ]
     },
     "metadata": {},
     "output_type": "display_data"
    }
   ],
   "source": [
    "fig, ax = plt.subplots(figsize=(6,6))\n",
    "ax.scatter(df_combined_2017['act_participation'],df_combined_2017['sat_participation'])\n",
    "ax.set_title('2017 ACT & SAT Participation')\n",
    "ax.set_xlabel('ACT Participation')\n",
    "ax.set_ylabel('SAT Participation');"
   ]
  },
  {
   "cell_type": "markdown",
   "metadata": {},
   "source": [
    "##### Is it appropriate to compare *these* specific SAT and ACT math scores? \n",
    "\n",
    "Why or why not?"
   ]
  },
  {
   "cell_type": "markdown",
   "metadata": {},
   "source": [
    "Answer:\n",
    "\n",
    "No.  \n",
    "\n",
    "The SAT and ACT partcipation rates are inversely correlated. Therefore, in many states, the number of students taking the ACT will differ significantly from the number of students taking the SAT. Therefore, a meaningful state-by-state comparison would not be feasible."
   ]
  },
  {
   "cell_type": "markdown",
   "metadata": {},
   "source": [
    "#### Statistical Evaluation of Distributions \n",
    "\n",
    "**If you feel it's appropriate**, using methods we discussed in class, run hypothesis tests to compare variables of interest in our dataset. "
   ]
  },
  {
   "cell_type": "markdown",
   "metadata": {},
   "source": [
    "Null Hypothesis: The SAT participation rate is not lower when when the state has a mandatory high school leaving exam.\n",
    "\n",
    "Alternative Hypothesis: The SAT participation rate is lower when the state has a mandatory high school leaving exam."
   ]
  },
  {
   "cell_type": "markdown",
   "metadata": {},
   "source": [
    "## Outside Research"
   ]
  },
  {
   "cell_type": "markdown",
   "metadata": {},
   "source": [
    "Based upon your observations, choose **three** states that demonstrate interesting trends in their SAT and/or ACT participation rates. Spend some time doing outside research on state policies that might influence these rates, and summarize your findings below. **Feel free to go back and create new plots that highlight these states of interest**. If you bring in any outside tables or charts, make sure you are explicit about having borrowed them. If you quote any text, make sure that it renders as being quoted. (Make sure that you cite your sources -- check with you local instructor for citation preferences)."
   ]
  },
  {
   "cell_type": "code",
   "execution_count": 107,
   "metadata": {},
   "outputs": [
    {
     "data": {
      "text/html": [
       "<div>\n",
       "<style scoped>\n",
       "    .dataframe tbody tr th:only-of-type {\n",
       "        vertical-align: middle;\n",
       "    }\n",
       "\n",
       "    .dataframe tbody tr th {\n",
       "        vertical-align: top;\n",
       "    }\n",
       "\n",
       "    .dataframe thead th {\n",
       "        text-align: right;\n",
       "    }\n",
       "</style>\n",
       "<table border=\"1\" class=\"dataframe\">\n",
       "  <thead>\n",
       "    <tr style=\"text-align: right;\">\n",
       "      <th></th>\n",
       "      <th>state</th>\n",
       "      <th>sat_part_chg</th>\n",
       "      <th>sat_part_17</th>\n",
       "      <th>sat_part_18</th>\n",
       "      <th>act_part_17</th>\n",
       "      <th>act_part_18</th>\n",
       "    </tr>\n",
       "  </thead>\n",
       "  <tbody>\n",
       "    <tr>\n",
       "      <th>13</th>\n",
       "      <td>Illinois</td>\n",
       "      <td>0.90</td>\n",
       "      <td>0.09</td>\n",
       "      <td>0.99</td>\n",
       "      <td>0.93</td>\n",
       "      <td>0.43</td>\n",
       "    </tr>\n",
       "    <tr>\n",
       "      <th>5</th>\n",
       "      <td>Colorado</td>\n",
       "      <td>0.89</td>\n",
       "      <td>0.11</td>\n",
       "      <td>1.00</td>\n",
       "      <td>1.00</td>\n",
       "      <td>0.30</td>\n",
       "    </tr>\n",
       "  </tbody>\n",
       "</table>\n",
       "</div>"
      ],
      "text/plain": [
       "       state  sat_part_chg  sat_part_17  sat_part_18  act_part_17  act_part_18\n",
       "13  Illinois          0.90         0.09         0.99         0.93         0.43\n",
       "5   Colorado          0.89         0.11         1.00         1.00         0.30"
      ]
     },
     "execution_count": 107,
     "metadata": {},
     "output_type": "execute_result"
    }
   ],
   "source": [
    "# add column 'sat_part_chg' into dataframe\n",
    "# this shows the change in SAT participation rate from 2017 to 2018\n",
    "df_sat_act_stats_2years['sat_part_chg']=df_sat_act_stats_2years['sat_part_18']-df_sat_act_stats_2years['sat_part_17']\n",
    "df_sat_act_stats_2years.sort_values(by='sat_part_chg',ascending=False)[['state','sat_part_chg',\n",
    "                                                                        'sat_part_17','sat_part_18',\n",
    "                                                                      'act_part_17','act_part_18']].head(2)"
   ]
  },
  {
   "cell_type": "markdown",
   "metadata": {},
   "source": [
    "Illinois and Colorado had the largest increase in SAT participation rate from 2017 to 2018."
   ]
  },
  {
   "cell_type": "code",
   "execution_count": 105,
   "metadata": {},
   "outputs": [
    {
     "data": {
      "text/html": [
       "<div>\n",
       "<style scoped>\n",
       "    .dataframe tbody tr th:only-of-type {\n",
       "        vertical-align: middle;\n",
       "    }\n",
       "\n",
       "    .dataframe tbody tr th {\n",
       "        vertical-align: top;\n",
       "    }\n",
       "\n",
       "    .dataframe thead th {\n",
       "        text-align: right;\n",
       "    }\n",
       "</style>\n",
       "<table border=\"1\" class=\"dataframe\">\n",
       "  <thead>\n",
       "    <tr style=\"text-align: right;\">\n",
       "      <th></th>\n",
       "      <th>state</th>\n",
       "      <th>sat_part_chg</th>\n",
       "      <th>sat_part_17</th>\n",
       "      <th>sat_part_18</th>\n",
       "      <th>act_part_17</th>\n",
       "      <th>act_part_18</th>\n",
       "    </tr>\n",
       "  </thead>\n",
       "  <tbody>\n",
       "    <tr>\n",
       "      <th>40</th>\n",
       "      <td>South Carolina</td>\n",
       "      <td>0.05</td>\n",
       "      <td>0.5</td>\n",
       "      <td>0.55</td>\n",
       "      <td>1.0</td>\n",
       "      <td>1.0</td>\n",
       "    </tr>\n",
       "  </tbody>\n",
       "</table>\n",
       "</div>"
      ],
      "text/plain": [
       "             state  sat_part_chg  sat_part_17  sat_part_18  act_part_17  \\\n",
       "40  South Carolina          0.05          0.5         0.55          1.0   \n",
       "\n",
       "    act_part_18  \n",
       "40          1.0  "
      ]
     },
     "execution_count": 105,
     "metadata": {},
     "output_type": "execute_result"
    }
   ],
   "source": [
    "df_sat_act_stats_2years[(df_sat_act_stats_2years['state']=='South Carolina')][['state','sat_part_chg',\n",
    "                                                                               'sat_part_17','sat_part_18',\n",
    "                                                                               'act_part_17','act_part_18']].head(3)"
   ]
  },
  {
   "cell_type": "markdown",
   "metadata": {},
   "source": [
    "South Carolina had the largest combined participation rate for both the SAT (55%) and ACT (100%) in 2018."
   ]
  },
  {
   "cell_type": "markdown",
   "metadata": {},
   "source": [
    "The 3 states of interestest are therefore:\n",
    "\n",
    "- Illinois\n",
    "- Colorado\n",
    "- South Carolina\n",
    "\n",
    "###### Illinois, Colorado\n",
    "\n",
    "Illinois and Colorado, among other states, gave SAT for free / SAT School Day during the 2017-2018 school year:\n",
    "https://www.collegeboard.org/releases/2018/more-than-2-million-students-in-class-of-2018-took-sat-highest-ever  from which the following is quoted -\n",
    "\n",
    "\"In the 2017-18 school year, nearly one million students participated in SAT School Day, compared to about 800,000 in 2016-17 and 460,000 in 2015-16. In 2014-15, only three states—Delaware, Idaho, Maine—and the District of Columbia participated in SAT School Day. In 2017-18, 10 states—Colorado, Connecticut, Delaware, Idaho, Illinois, Maine, Michigan, New Hampshire, Rhode Island, West Virginia—and the District of Columbia gave the SAT to public school students for free. SAT School Day has grown significantly, as has the consensus among researchers that offering the SAT no cost during the school day eases the way to college for more students.\" [end quote]\n",
    "\n",
    "The SAT School Day appears to have had a significant positive impact on the SAT participation rate.\n",
    "\n",
    "###### South Carolina\n",
    "\n",
    "Refer to page 8, para \"High School Assessment Program\" - \n",
    "https://sc.edu/nrc/system/pub_files/1532449726_0.pdf  from which the following is quoted -\n",
    "\n",
    "\"The High School Assessment Program (HSAP) was a state assessment tool formerly used to gauge the level of\n",
    "comprehension among high school students in content areas English and math... Due to significant deficiencies within the program, policymakers passed Act 155 in 2014, eliminating the requirement for all students to take the HSAP. Act 155 stipulates that the HSAP must be replaced with more successful programs like ACT WorkKeys and the SAT. These programs are more appropriate ways to assess college and career readiness among students, while helping them prepare for the future.\" [end quote]\n",
    "\n",
    "The elimination of the high school exit examination and endorsement of the ACT/SAT as a viable replacement is likely to have contributed to the exceptional combined particiation rates for the ACT and SAT."
   ]
  },
  {
   "cell_type": "markdown",
   "metadata": {},
   "source": [
    "## Conclusions and Recommendations"
   ]
  },
  {
   "cell_type": "markdown",
   "metadata": {},
   "source": [
    "Based on your exploration of the data, what are you key takeaways and recommendations? Choose one state with a lower participation rate and provide a suggestion for how the College Board might increase participation amongst graduating seniors in this state. Are there additional data you desire that would better inform your investigations?"
   ]
  },
  {
   "cell_type": "code",
   "execution_count": 117,
   "metadata": {},
   "outputs": [
    {
     "data": {
      "text/html": [
       "<div>\n",
       "<style scoped>\n",
       "    .dataframe tbody tr th:only-of-type {\n",
       "        vertical-align: middle;\n",
       "    }\n",
       "\n",
       "    .dataframe tbody tr th {\n",
       "        vertical-align: top;\n",
       "    }\n",
       "\n",
       "    .dataframe thead th {\n",
       "        text-align: right;\n",
       "    }\n",
       "</style>\n",
       "<table border=\"1\" class=\"dataframe\">\n",
       "  <thead>\n",
       "    <tr style=\"text-align: right;\">\n",
       "      <th></th>\n",
       "      <th>state</th>\n",
       "      <th>sat_part_17</th>\n",
       "      <th>sat_part_18</th>\n",
       "      <th>act_part_17</th>\n",
       "      <th>act_part_18</th>\n",
       "      <th>sat_tot_17</th>\n",
       "      <th>sat_tot_18</th>\n",
       "      <th>act_comp_17</th>\n",
       "      <th>act_comp_18</th>\n",
       "      <th>sat_part_chg</th>\n",
       "    </tr>\n",
       "  </thead>\n",
       "  <tbody>\n",
       "    <tr>\n",
       "      <th>25</th>\n",
       "      <td>Missouri</td>\n",
       "      <td>0.03</td>\n",
       "      <td>0.04</td>\n",
       "      <td>1.0</td>\n",
       "      <td>1.0</td>\n",
       "      <td>1271</td>\n",
       "      <td>1262</td>\n",
       "      <td>20.4</td>\n",
       "      <td>20.0</td>\n",
       "      <td>0.01</td>\n",
       "    </tr>\n",
       "  </tbody>\n",
       "</table>\n",
       "</div>"
      ],
      "text/plain": [
       "       state  sat_part_17  sat_part_18  act_part_17  act_part_18  sat_tot_17  \\\n",
       "25  Missouri         0.03         0.04          1.0          1.0        1271   \n",
       "\n",
       "    sat_tot_18  act_comp_17  act_comp_18  sat_part_chg  \n",
       "25        1262         20.4         20.0          0.01  "
      ]
     },
     "execution_count": 117,
     "metadata": {},
     "output_type": "execute_result"
    }
   ],
   "source": [
    "df_sat_act_stats_2years[df_sat_act_stats_2years['state']=='Missouri']"
   ]
  },
  {
   "cell_type": "markdown",
   "metadata": {},
   "source": [
    "##### Recommendations\n",
    "- More states should participate in the SAT School Day program as this appears to have a significant impact on SAT participation rate among the high school graduating class.\n",
    "- Individual states should consider eliminating the their state-speficic high school exit assessment tests in favour of the SAT and/or ACT\n",
    "\n",
    "##### Missouri\n",
    "- This state has a 2017/2018 SAT participation rate of 0.03 and 0.04 respectively.\n",
    "- This state implements a high-school exit exam called the Missouri Assessment Program, according to: https://en.wikipedia.org/wiki/List_of_exit_examinations_in_the_United_States\n",
    "- This state has not participated in the SAT School Day program\n",
    "- ###### Suggestion: Missouri should participate in the SAT School Day program and consider if it should abolish the Missouri Assessment Program in favour of the SAT/ACT.\n",
    "\n",
    "##### Additional Data Desired\n",
    "- The SAT/ACT participation rates for South Carolina in 2013, 2014, 2015 & 2016. The HSAP exit exam was abolished with effect from 2015 onwards. I would want to study the participation rates before and after the HSAP was abolised to determine the extent of impact to the SAT/ACT participation rates in South Carolina.\n",
    "- The median household income in states that participated in the SAT School Day in school year 2017-2018 to study the correlation between household income and SAT exams being offerred free of charge.\n",
    "- What proportion of high school students are given mock SAT exams vs. mock ACT exams to try out before deciding which test to take. "
   ]
  }
 ],
 "metadata": {
  "anaconda-cloud": {},
  "kernelspec": {
   "display_name": "Python 3",
   "language": "python",
   "name": "python3"
  },
  "language_info": {
   "codemirror_mode": {
    "name": "ipython",
    "version": 3
   },
   "file_extension": ".py",
   "mimetype": "text/x-python",
   "name": "python",
   "nbconvert_exporter": "python",
   "pygments_lexer": "ipython3",
   "version": "3.7.3"
  }
 },
 "nbformat": 4,
 "nbformat_minor": 2
}
